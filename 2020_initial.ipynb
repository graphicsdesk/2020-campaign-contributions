{
 "cells": [
  {
   "cell_type": "markdown",
   "metadata": {},
   "source": [
    "## Import Data"
   ]
  },
  {
   "cell_type": "code",
   "execution_count": 1,
   "metadata": {
    "scrolled": true
   },
   "outputs": [
    {
     "name": "stdout",
     "output_type": "stream",
     "text": [
      "/Users/lukedobrovic/Data/CampaignContributions\n"
     ]
    },
    {
     "name": "stderr",
     "output_type": "stream",
     "text": [
      "/Library/Frameworks/Python.framework/Versions/3.8/lib/python3.8/site-packages/IPython/core/interactiveshell.py:3062: DtypeWarning: Columns (12,18,20,32,50,51,53,54,57,59) have mixed types. Specify dtype option on import or set low_memory=False.\n",
      "  has_raised = await self.run_ast_nodes(code_ast.body, cell_name,\n"
     ]
    },
    {
     "data": {
      "text/plain": [
       "Index(['committee_id', 'committee_name', 'report_year', 'report_type',\n",
       "       'image_number', 'line_number', 'transaction_id', 'file_number',\n",
       "       'committee_name.1', 'entity_type', 'entity_type_desc',\n",
       "       'unused_contbr_id', 'contributor_prefix', 'contributor_name',\n",
       "       'recipient_committee_type', 'recipient_committee_org_type',\n",
       "       'recipient_committee_designation', 'contributor_first_name',\n",
       "       'contributor_middle_name', 'contributor_last_name',\n",
       "       'contributor_suffix', 'contributor_street_1', 'contributor_street_2',\n",
       "       'contributor_city', 'contributor_state', 'contributor_zip',\n",
       "       'contributor_employer', 'contributor_occupation', 'contributor_id',\n",
       "       'receipt_type', 'receipt_type_desc', 'receipt_type_full', 'memo_code',\n",
       "       'memo_code_full', 'contribution_receipt_date',\n",
       "       'contribution_receipt_amount', 'contributor_aggregate_ytd',\n",
       "       'candidate_id', 'candidate_name', 'candidate_first_name',\n",
       "       'candidate_last_name', 'candidate_middle_name', 'candidate_prefix',\n",
       "       'candidate_suffix', 'candidate_office', 'candidate_office_full',\n",
       "       'candidate_office_state', 'candidate_office_state_full',\n",
       "       'candidate_office_district', 'conduit_committee_id',\n",
       "       'conduit_committee_name', 'conduit_committee_street1',\n",
       "       'conduit_committee_street2', 'conduit_committee_city',\n",
       "       'conduit_committee_state', 'conduit_committee_zip',\n",
       "       'donor_committee_name', 'national_committee_nonfederal_account',\n",
       "       'election_type', 'election_type_full', 'fec_election_type_desc',\n",
       "       'fec_election_year', 'amendment_indicator', 'amendment_indicator_desc',\n",
       "       'schedule_type_full', 'load_date', 'original_sub_id',\n",
       "       'back_reference_transaction_id', 'back_reference_schedule_name',\n",
       "       'filing_form', 'link_id', 'is_individual', 'memo_text',\n",
       "       'two_year_transaction_period', 'schedule_type', 'increased_limit',\n",
       "       'sub_id', 'pdf_url', 'line_number_label'],\n",
       "      dtype='object')"
      ]
     },
     "execution_count": 1,
     "metadata": {},
     "output_type": "execute_result"
    }
   ],
   "source": [
    "import os\n",
    "import pandas as pd\n",
    "import numpy as np\n",
    "import matplotlib.pyplot as plt\n",
    "\n",
    "DIR = os.getcwd()\n",
    "print(DIR)\n",
    "\n",
    "\n",
    "\n",
    "df = pd.read_csv(DIR + \"/2019to2020contributions.csv\",\n",
    "                    parse_dates = [\"contribution_receipt_date\"]) \n",
    "\n",
    "df.columns"
   ]
  },
  {
   "cell_type": "markdown",
   "metadata": {},
   "source": [
    "## Data Cleaning: Select desired columns, remove other \"Columbia\" institutions and remove negative values under contributions"
   ]
  },
  {
   "cell_type": "code",
   "execution_count": 2,
   "metadata": {},
   "outputs": [],
   "source": [
    "# df.columns\n",
    "df_selections = df[[ \"committee_name\", \"contribution_receipt_date\",\n",
    "                    \"contribution_receipt_amount\", \"contributor_employer\", \n",
    "                   \"contributor_occupation\", \"contributor_first_name\", \n",
    "                   \"contributor_middle_name\", \"contributor_last_name\"]]"
   ]
  },
  {
   "cell_type": "code",
   "execution_count": 3,
   "metadata": {},
   "outputs": [],
   "source": [
    "faux = [\"MISSOURI\", \"BRITISH\", \"DISTRICT\", \"CHICAGO\", \"INTERNATIONAL\", \"MO\", \"UNIVERSITY HOSPITAL\", \"FLORIDA\",\n",
    "       \"CAROLINA\"]\n",
    "\n",
    "df_selections = df_selections[~df_selections.contributor_employer.str.contains('|'.join(faux))]\n",
    "\n",
    "df_selections = df_selections[df_selections[\"contribution_receipt_amount\"] >= 0]  "
   ]
  },
  {
   "cell_type": "markdown",
   "metadata": {},
   "source": [
    "## Create dataframes with contributions to each campaign"
   ]
  },
  {
   "cell_type": "code",
   "execution_count": 19,
   "metadata": {
    "scrolled": true
   },
   "outputs": [
    {
     "data": {
      "text/html": [
       "<div>\n",
       "<style scoped>\n",
       "    .dataframe tbody tr th:only-of-type {\n",
       "        vertical-align: middle;\n",
       "    }\n",
       "\n",
       "    .dataframe tbody tr th {\n",
       "        vertical-align: top;\n",
       "    }\n",
       "\n",
       "    .dataframe thead th {\n",
       "        text-align: right;\n",
       "    }\n",
       "</style>\n",
       "<table border=\"1\" class=\"dataframe\">\n",
       "  <thead>\n",
       "    <tr style=\"text-align: right;\">\n",
       "      <th></th>\n",
       "      <th>index</th>\n",
       "      <th>committee_name</th>\n",
       "      <th>contribution_receipt_date</th>\n",
       "      <th>contribution_receipt_amount</th>\n",
       "      <th>contributor_employer</th>\n",
       "      <th>contributor_occupation</th>\n",
       "      <th>contributor_first_name</th>\n",
       "      <th>contributor_middle_name</th>\n",
       "      <th>contributor_last_name</th>\n",
       "    </tr>\n",
       "  </thead>\n",
       "  <tbody>\n",
       "    <tr>\n",
       "      <th>0</th>\n",
       "      <td>89</td>\n",
       "      <td>DONALD J. TRUMP FOR PRESIDENT, INC.</td>\n",
       "      <td>2019-03-05</td>\n",
       "      <td>2800.00</td>\n",
       "      <td>COLUMBIA UNIVERSITY</td>\n",
       "      <td>PSYCHOLOGY PROFESSOR</td>\n",
       "      <td>ROBERT</td>\n",
       "      <td>NaN</td>\n",
       "      <td>SIEGLER</td>\n",
       "    </tr>\n",
       "    <tr>\n",
       "      <th>1</th>\n",
       "      <td>90</td>\n",
       "      <td>DONALD J. TRUMP FOR PRESIDENT, INC.</td>\n",
       "      <td>2019-01-10</td>\n",
       "      <td>25.00</td>\n",
       "      <td>NYPH/COLUMBIA UNIVERSITY</td>\n",
       "      <td>RN</td>\n",
       "      <td>GISELA</td>\n",
       "      <td>NaN</td>\n",
       "      <td>MINIER</td>\n",
       "    </tr>\n",
       "    <tr>\n",
       "      <th>2</th>\n",
       "      <td>91</td>\n",
       "      <td>DONALD J. TRUMP FOR PRESIDENT, INC.</td>\n",
       "      <td>2019-01-20</td>\n",
       "      <td>35.00</td>\n",
       "      <td>NYPH/COLUMBIA UNIVERSITY</td>\n",
       "      <td>RN</td>\n",
       "      <td>GISELA</td>\n",
       "      <td>NaN</td>\n",
       "      <td>MINIER</td>\n",
       "    </tr>\n",
       "    <tr>\n",
       "      <th>3</th>\n",
       "      <td>92</td>\n",
       "      <td>DONALD J. TRUMP FOR PRESIDENT, INC.</td>\n",
       "      <td>2019-02-20</td>\n",
       "      <td>35.00</td>\n",
       "      <td>NYPH/COLUMBIA UNIVERSITY</td>\n",
       "      <td>RN</td>\n",
       "      <td>GISELA</td>\n",
       "      <td>NaN</td>\n",
       "      <td>MINIER</td>\n",
       "    </tr>\n",
       "    <tr>\n",
       "      <th>4</th>\n",
       "      <td>93</td>\n",
       "      <td>DONALD J. TRUMP FOR PRESIDENT, INC.</td>\n",
       "      <td>2019-03-20</td>\n",
       "      <td>35.00</td>\n",
       "      <td>NYPH/COLUMBIA UNIVERSITY</td>\n",
       "      <td>RN</td>\n",
       "      <td>GISELA</td>\n",
       "      <td>NaN</td>\n",
       "      <td>MINIER</td>\n",
       "    </tr>\n",
       "    <tr>\n",
       "      <th>...</th>\n",
       "      <td>...</td>\n",
       "      <td>...</td>\n",
       "      <td>...</td>\n",
       "      <td>...</td>\n",
       "      <td>...</td>\n",
       "      <td>...</td>\n",
       "      <td>...</td>\n",
       "      <td>...</td>\n",
       "      <td>...</td>\n",
       "    </tr>\n",
       "    <tr>\n",
       "      <th>103</th>\n",
       "      <td>46799</td>\n",
       "      <td>DONALD J. TRUMP FOR PRESIDENT, INC.</td>\n",
       "      <td>2020-08-07</td>\n",
       "      <td>0.37</td>\n",
       "      <td>COLUMBIA UNIVERSITY MEDICAL CENTER</td>\n",
       "      <td>LAB SCIENTIST</td>\n",
       "      <td>RAFAEL</td>\n",
       "      <td>NaN</td>\n",
       "      <td>FERRER</td>\n",
       "    </tr>\n",
       "    <tr>\n",
       "      <th>104</th>\n",
       "      <td>46801</td>\n",
       "      <td>DONALD J. TRUMP FOR PRESIDENT, INC.</td>\n",
       "      <td>2020-08-09</td>\n",
       "      <td>26.25</td>\n",
       "      <td>COLUMBIA UNIVERSITY</td>\n",
       "      <td>TECHNOLOGIST</td>\n",
       "      <td>ANDREW</td>\n",
       "      <td>NaN</td>\n",
       "      <td>MADEJCZYK</td>\n",
       "    </tr>\n",
       "    <tr>\n",
       "      <th>105</th>\n",
       "      <td>47065</td>\n",
       "      <td>DONALD J. TRUMP FOR PRESIDENT, INC.</td>\n",
       "      <td>2020-09-07</td>\n",
       "      <td>23.75</td>\n",
       "      <td>TEACHERS COLLEGE COLUMBIA UNIVERSITY</td>\n",
       "      <td>ACCOUNTANT</td>\n",
       "      <td>KIM</td>\n",
       "      <td>M</td>\n",
       "      <td>SANTORO</td>\n",
       "    </tr>\n",
       "    <tr>\n",
       "      <th>106</th>\n",
       "      <td>47066</td>\n",
       "      <td>DONALD J. TRUMP FOR PRESIDENT, INC.</td>\n",
       "      <td>2020-08-30</td>\n",
       "      <td>118.75</td>\n",
       "      <td>COLUMBIA SOUTHERN UNIVERSITY</td>\n",
       "      <td>PROFESSOR</td>\n",
       "      <td>CHRIS</td>\n",
       "      <td>NaN</td>\n",
       "      <td>WIKE</td>\n",
       "    </tr>\n",
       "    <tr>\n",
       "      <th>107</th>\n",
       "      <td>47067</td>\n",
       "      <td>DONALD J. TRUMP FOR PRESIDENT, INC.</td>\n",
       "      <td>2020-09-09</td>\n",
       "      <td>95.00</td>\n",
       "      <td>COLUMBIA UNIVERSITY</td>\n",
       "      <td>PROFESSOR</td>\n",
       "      <td>JOSEPH</td>\n",
       "      <td>D</td>\n",
       "      <td>TERWILLIGER</td>\n",
       "    </tr>\n",
       "  </tbody>\n",
       "</table>\n",
       "<p>108 rows × 9 columns</p>\n",
       "</div>"
      ],
      "text/plain": [
       "     index                       committee_name contribution_receipt_date  \\\n",
       "0       89  DONALD J. TRUMP FOR PRESIDENT, INC.                2019-03-05   \n",
       "1       90  DONALD J. TRUMP FOR PRESIDENT, INC.                2019-01-10   \n",
       "2       91  DONALD J. TRUMP FOR PRESIDENT, INC.                2019-01-20   \n",
       "3       92  DONALD J. TRUMP FOR PRESIDENT, INC.                2019-02-20   \n",
       "4       93  DONALD J. TRUMP FOR PRESIDENT, INC.                2019-03-20   \n",
       "..     ...                                  ...                       ...   \n",
       "103  46799  DONALD J. TRUMP FOR PRESIDENT, INC.                2020-08-07   \n",
       "104  46801  DONALD J. TRUMP FOR PRESIDENT, INC.                2020-08-09   \n",
       "105  47065  DONALD J. TRUMP FOR PRESIDENT, INC.                2020-09-07   \n",
       "106  47066  DONALD J. TRUMP FOR PRESIDENT, INC.                2020-08-30   \n",
       "107  47067  DONALD J. TRUMP FOR PRESIDENT, INC.                2020-09-09   \n",
       "\n",
       "     contribution_receipt_amount                  contributor_employer  \\\n",
       "0                        2800.00                   COLUMBIA UNIVERSITY   \n",
       "1                          25.00              NYPH/COLUMBIA UNIVERSITY   \n",
       "2                          35.00              NYPH/COLUMBIA UNIVERSITY   \n",
       "3                          35.00              NYPH/COLUMBIA UNIVERSITY   \n",
       "4                          35.00              NYPH/COLUMBIA UNIVERSITY   \n",
       "..                           ...                                   ...   \n",
       "103                         0.37    COLUMBIA UNIVERSITY MEDICAL CENTER   \n",
       "104                        26.25                   COLUMBIA UNIVERSITY   \n",
       "105                        23.75  TEACHERS COLLEGE COLUMBIA UNIVERSITY   \n",
       "106                       118.75          COLUMBIA SOUTHERN UNIVERSITY   \n",
       "107                        95.00                   COLUMBIA UNIVERSITY   \n",
       "\n",
       "    contributor_occupation contributor_first_name contributor_middle_name  \\\n",
       "0     PSYCHOLOGY PROFESSOR                 ROBERT                     NaN   \n",
       "1                       RN                 GISELA                     NaN   \n",
       "2                       RN                 GISELA                     NaN   \n",
       "3                       RN                 GISELA                     NaN   \n",
       "4                       RN                 GISELA                     NaN   \n",
       "..                     ...                    ...                     ...   \n",
       "103          LAB SCIENTIST                 RAFAEL                     NaN   \n",
       "104           TECHNOLOGIST                 ANDREW                     NaN   \n",
       "105             ACCOUNTANT                    KIM                       M   \n",
       "106              PROFESSOR                  CHRIS                     NaN   \n",
       "107              PROFESSOR                 JOSEPH                       D   \n",
       "\n",
       "    contributor_last_name  \n",
       "0                 SIEGLER  \n",
       "1                  MINIER  \n",
       "2                  MINIER  \n",
       "3                  MINIER  \n",
       "4                  MINIER  \n",
       "..                    ...  \n",
       "103                FERRER  \n",
       "104             MADEJCZYK  \n",
       "105               SANTORO  \n",
       "106                  WIKE  \n",
       "107           TERWILLIGER  \n",
       "\n",
       "[108 rows x 9 columns]"
      ]
     },
     "execution_count": 19,
     "metadata": {},
     "output_type": "execute_result"
    }
   ],
   "source": [
    "df_biden = df_selections[df_selections[\"committee_name\"].str.contains(\"BIDEN FOR PRESIDENT\")]\n",
    "\n",
    "df_biden.reset_index()\n",
    "\n",
    "df_trump = df_selections[df_selections[\"committee_name\"].str.contains(\"DONALD J. TRUMP FOR PRESIDENT, INC.\")]\n",
    "\n",
    "df_trump.reset_index()"
   ]
  },
  {
   "cell_type": "markdown",
   "metadata": {},
   "source": [
    "# Plots for donations per campaign and total donation $"
   ]
  },
  {
   "cell_type": "code",
   "execution_count": 28,
   "metadata": {
    "scrolled": true
   },
   "outputs": [
    {
     "name": "stdout",
     "output_type": "stream",
     "text": [
      "(108, 8)\n",
      "(1177, 8)\n"
     ]
    }
   ],
   "source": [
    "print(df_trump.shape)\n",
    "print(df_biden.shape)"
   ]
  },
  {
   "cell_type": "code",
   "execution_count": 70,
   "metadata": {},
   "outputs": [],
   "source": [
    "import pandas as pd \n",
    "import matplotlib.pyplot as plt \n",
    "from pywaffle import Waffle "
   ]
  },
  {
   "cell_type": "code",
   "execution_count": 89,
   "metadata": {},
   "outputs": [
    {
     "data": {
      "image/png": "[encoded data removed]",
      "text/plain": [
       "<Waffle size 432x288 with 1 Axes>"
      ]
     },
     "metadata": {
      "needs_background": "light"
     },
     "output_type": "display_data"
    },
    {
     "data": {
      "image/png": "[encoded data removed]",
      "text/plain": [
       "<Waffle size 432x288 with 1 Axes>"
      ]
     },
     "metadata": {
      "needs_background": "light"
     },
     "output_type": "display_data"
    }
   ],
   "source": [
    "data2 = {'campaign': ['Biden', 'Trump'],\n",
    "        'donations': [1177, 108]}\n",
    "\n",
    "df3 = pd.DataFrame(data)\n",
    "\n",
    "fig = plt.figure(FigureClass=Waffle,\n",
    "                 columns=5,\n",
    "                values=[117.7],\n",
    "#                 figsize=(20,6),\n",
    "                vertical=True,\n",
    "                rounding_rule='floor')\n",
    "fig.savefig(\"biden_donations.svg\")\n",
    "fig2 = plt.figure(FigureClass=Waffle, \n",
    "                 columns=5,\n",
    "                 values=[10.8],\n",
    "#                  figsize=(10,6),\n",
    "                 vertical=True,\n",
    "                 rounding_rule='floor')\n",
    "fig2.savefig(\"trump_donations.svg\")"
   ]
  },
  {
   "cell_type": "markdown",
   "metadata": {},
   "source": [
    "# Group contributions by receipt date for each campaign and visualize!"
   ]
  },
  {
   "cell_type": "code",
   "execution_count": 5,
   "metadata": {},
   "outputs": [
    {
     "data": {
      "text/html": [
       "<div>\n",
       "<style scoped>\n",
       "    .dataframe tbody tr th:only-of-type {\n",
       "        vertical-align: middle;\n",
       "    }\n",
       "\n",
       "    .dataframe tbody tr th {\n",
       "        vertical-align: top;\n",
       "    }\n",
       "\n",
       "    .dataframe thead th {\n",
       "        text-align: right;\n",
       "    }\n",
       "</style>\n",
       "<table border=\"1\" class=\"dataframe\">\n",
       "  <thead>\n",
       "    <tr style=\"text-align: right;\">\n",
       "      <th></th>\n",
       "      <th>committee_name</th>\n",
       "      <th>contribution_receipt_date</th>\n",
       "      <th>contribution_receipt_amount</th>\n",
       "      <th>contributor_employer</th>\n",
       "      <th>contributor_occupation</th>\n",
       "      <th>contributor_first_name</th>\n",
       "      <th>contributor_middle_name</th>\n",
       "      <th>contributor_last_name</th>\n",
       "    </tr>\n",
       "  </thead>\n",
       "  <tbody>\n",
       "    <tr>\n",
       "      <th>47069</th>\n",
       "      <td>KENTUCKY STATE DEMOCRATIC CENTRAL EXECUTIVE CO...</td>\n",
       "      <td>2020-10-12</td>\n",
       "      <td>1000.0</td>\n",
       "      <td>COLUMBIA UNIVERSITY</td>\n",
       "      <td>PROFESSOR</td>\n",
       "      <td>EVANGELINE</td>\n",
       "      <td>NaN</td>\n",
       "      <td>MORPHOS</td>\n",
       "    </tr>\n",
       "    <tr>\n",
       "      <th>47070</th>\n",
       "      <td>KENTUCKY STATE DEMOCRATIC CENTRAL EXECUTIVE CO...</td>\n",
       "      <td>2020-10-06</td>\n",
       "      <td>25.0</td>\n",
       "      <td>COLUMBIA UNIVERSITY</td>\n",
       "      <td>PROFESSOR</td>\n",
       "      <td>MICHAEL</td>\n",
       "      <td>NaN</td>\n",
       "      <td>GOLDBERG</td>\n",
       "    </tr>\n",
       "    <tr>\n",
       "      <th>47647</th>\n",
       "      <td>MOVEMENT VOTER PAC</td>\n",
       "      <td>2020-09-30</td>\n",
       "      <td>500.0</td>\n",
       "      <td>COLUMBIA UNIVERSITY</td>\n",
       "      <td>TEACHER</td>\n",
       "      <td>JANLORI</td>\n",
       "      <td>NaN</td>\n",
       "      <td>GOLDMAN</td>\n",
       "    </tr>\n",
       "    <tr>\n",
       "      <th>8018</th>\n",
       "      <td>THE MAJORITY RULES</td>\n",
       "      <td>2020-09-30</td>\n",
       "      <td>50.0</td>\n",
       "      <td>COLUMBIA UNIVERSITY</td>\n",
       "      <td>TEACHER - RETIRED</td>\n",
       "      <td>GRACE</td>\n",
       "      <td>NaN</td>\n",
       "      <td>CHRIST</td>\n",
       "    </tr>\n",
       "    <tr>\n",
       "      <th>49578</th>\n",
       "      <td>LET AMERICA VOTE PAC</td>\n",
       "      <td>2020-09-30</td>\n",
       "      <td>50.0</td>\n",
       "      <td>COLUMBIA UNIVERSITY</td>\n",
       "      <td>PHYSICIAN</td>\n",
       "      <td>HENRY</td>\n",
       "      <td>NaN</td>\n",
       "      <td>GINSBERG</td>\n",
       "    </tr>\n",
       "  </tbody>\n",
       "</table>\n",
       "</div>"
      ],
      "text/plain": [
       "                                          committee_name  \\\n",
       "47069  KENTUCKY STATE DEMOCRATIC CENTRAL EXECUTIVE CO...   \n",
       "47070  KENTUCKY STATE DEMOCRATIC CENTRAL EXECUTIVE CO...   \n",
       "47647                                 MOVEMENT VOTER PAC   \n",
       "8018                                  THE MAJORITY RULES   \n",
       "49578                               LET AMERICA VOTE PAC   \n",
       "\n",
       "      contribution_receipt_date  contribution_receipt_amount  \\\n",
       "47069                2020-10-12                       1000.0   \n",
       "47070                2020-10-06                         25.0   \n",
       "47647                2020-09-30                        500.0   \n",
       "8018                 2020-09-30                         50.0   \n",
       "49578                2020-09-30                         50.0   \n",
       "\n",
       "      contributor_employer contributor_occupation contributor_first_name  \\\n",
       "47069  COLUMBIA UNIVERSITY              PROFESSOR             EVANGELINE   \n",
       "47070  COLUMBIA UNIVERSITY              PROFESSOR                MICHAEL   \n",
       "47647  COLUMBIA UNIVERSITY                TEACHER                JANLORI   \n",
       "8018   COLUMBIA UNIVERSITY      TEACHER - RETIRED                  GRACE   \n",
       "49578  COLUMBIA UNIVERSITY              PHYSICIAN                  HENRY   \n",
       "\n",
       "      contributor_middle_name contributor_last_name  \n",
       "47069                     NaN               MORPHOS  \n",
       "47070                     NaN              GOLDBERG  \n",
       "47647                     NaN               GOLDMAN  \n",
       "8018                      NaN                CHRIST  \n",
       "49578                     NaN              GINSBERG  "
      ]
     },
     "execution_count": 5,
     "metadata": {},
     "output_type": "execute_result"
    }
   ],
   "source": [
    "df_dummy = df_selections.sort_values(by=\"contribution_receipt_date\", ascending=False)\n",
    "df_dummy.head()"
   ]
  },
  {
   "cell_type": "code",
   "execution_count": 6,
   "metadata": {
    "scrolled": true
   },
   "outputs": [],
   "source": [
    "df_biden = df_biden.groupby([\"contribution_receipt_date\"], as_index=False).sum()\n",
    "\n",
    "df_trump = df_trump.groupby([\"contribution_receipt_date\"], as_index=False).sum()"
   ]
  },
  {
   "cell_type": "code",
   "execution_count": 7,
   "metadata": {},
   "outputs": [
    {
     "data": {
      "text/html": [
       "<div>\n",
       "<style scoped>\n",
       "    .dataframe tbody tr th:only-of-type {\n",
       "        vertical-align: middle;\n",
       "    }\n",
       "\n",
       "    .dataframe tbody tr th {\n",
       "        vertical-align: top;\n",
       "    }\n",
       "\n",
       "    .dataframe thead th {\n",
       "        text-align: right;\n",
       "    }\n",
       "</style>\n",
       "<table border=\"1\" class=\"dataframe\">\n",
       "  <thead>\n",
       "    <tr style=\"text-align: right;\">\n",
       "      <th></th>\n",
       "      <th>contribution_receipt_date</th>\n",
       "      <th>contribution_receipt_amount</th>\n",
       "    </tr>\n",
       "  </thead>\n",
       "  <tbody>\n",
       "    <tr>\n",
       "      <th>77</th>\n",
       "      <td>2020-09-29</td>\n",
       "      <td>120.0</td>\n",
       "    </tr>\n",
       "    <tr>\n",
       "      <th>76</th>\n",
       "      <td>2020-09-28</td>\n",
       "      <td>250.0</td>\n",
       "    </tr>\n",
       "    <tr>\n",
       "      <th>75</th>\n",
       "      <td>2020-09-25</td>\n",
       "      <td>1.0</td>\n",
       "    </tr>\n",
       "    <tr>\n",
       "      <th>74</th>\n",
       "      <td>2020-09-21</td>\n",
       "      <td>500.0</td>\n",
       "    </tr>\n",
       "    <tr>\n",
       "      <th>73</th>\n",
       "      <td>2020-09-15</td>\n",
       "      <td>25.0</td>\n",
       "    </tr>\n",
       "    <tr>\n",
       "      <th>...</th>\n",
       "      <td>...</td>\n",
       "      <td>...</td>\n",
       "    </tr>\n",
       "    <tr>\n",
       "      <th>4</th>\n",
       "      <td>2019-03-20</td>\n",
       "      <td>35.0</td>\n",
       "    </tr>\n",
       "    <tr>\n",
       "      <th>3</th>\n",
       "      <td>2019-03-05</td>\n",
       "      <td>5600.0</td>\n",
       "    </tr>\n",
       "    <tr>\n",
       "      <th>2</th>\n",
       "      <td>2019-02-20</td>\n",
       "      <td>35.0</td>\n",
       "    </tr>\n",
       "    <tr>\n",
       "      <th>1</th>\n",
       "      <td>2019-01-20</td>\n",
       "      <td>35.0</td>\n",
       "    </tr>\n",
       "    <tr>\n",
       "      <th>0</th>\n",
       "      <td>2019-01-10</td>\n",
       "      <td>25.0</td>\n",
       "    </tr>\n",
       "  </tbody>\n",
       "</table>\n",
       "<p>78 rows × 2 columns</p>\n",
       "</div>"
      ],
      "text/plain": [
       "   contribution_receipt_date  contribution_receipt_amount\n",
       "77                2020-09-29                        120.0\n",
       "76                2020-09-28                        250.0\n",
       "75                2020-09-25                          1.0\n",
       "74                2020-09-21                        500.0\n",
       "73                2020-09-15                         25.0\n",
       "..                       ...                          ...\n",
       "4                 2019-03-20                         35.0\n",
       "3                 2019-03-05                       5600.0\n",
       "2                 2019-02-20                         35.0\n",
       "1                 2019-01-20                         35.0\n",
       "0                 2019-01-10                         25.0\n",
       "\n",
       "[78 rows x 2 columns]"
      ]
     },
     "execution_count": 7,
     "metadata": {},
     "output_type": "execute_result"
    }
   ],
   "source": [
    "df_max = df_trump.sort_values(by=\"contribution_receipt_date\", ascending=False)\n",
    "\n",
    "df_max"
   ]
  },
  {
   "cell_type": "code",
   "execution_count": 8,
   "metadata": {},
   "outputs": [
    {
     "data": {
      "text/html": [
       "<div>\n",
       "<style scoped>\n",
       "    .dataframe tbody tr th:only-of-type {\n",
       "        vertical-align: middle;\n",
       "    }\n",
       "\n",
       "    .dataframe tbody tr th {\n",
       "        vertical-align: top;\n",
       "    }\n",
       "\n",
       "    .dataframe thead th {\n",
       "        text-align: right;\n",
       "    }\n",
       "</style>\n",
       "<table border=\"1\" class=\"dataframe\">\n",
       "  <thead>\n",
       "    <tr style=\"text-align: right;\">\n",
       "      <th></th>\n",
       "      <th>contribution_receipt_date</th>\n",
       "      <th>contribution_receipt_amount</th>\n",
       "    </tr>\n",
       "  </thead>\n",
       "  <tbody>\n",
       "    <tr>\n",
       "      <th>3</th>\n",
       "      <td>2019-03-05</td>\n",
       "      <td>5600.00</td>\n",
       "    </tr>\n",
       "    <tr>\n",
       "      <th>74</th>\n",
       "      <td>2020-09-21</td>\n",
       "      <td>500.00</td>\n",
       "    </tr>\n",
       "    <tr>\n",
       "      <th>67</th>\n",
       "      <td>2020-09-06</td>\n",
       "      <td>295.43</td>\n",
       "    </tr>\n",
       "    <tr>\n",
       "      <th>76</th>\n",
       "      <td>2020-09-28</td>\n",
       "      <td>250.00</td>\n",
       "    </tr>\n",
       "    <tr>\n",
       "      <th>72</th>\n",
       "      <td>2020-09-14</td>\n",
       "      <td>250.00</td>\n",
       "    </tr>\n",
       "    <tr>\n",
       "      <th>...</th>\n",
       "      <td>...</td>\n",
       "      <td>...</td>\n",
       "    </tr>\n",
       "    <tr>\n",
       "      <th>49</th>\n",
       "      <td>2020-06-25</td>\n",
       "      <td>1.00</td>\n",
       "    </tr>\n",
       "    <tr>\n",
       "      <th>62</th>\n",
       "      <td>2020-08-10</td>\n",
       "      <td>1.00</td>\n",
       "    </tr>\n",
       "    <tr>\n",
       "      <th>75</th>\n",
       "      <td>2020-09-25</td>\n",
       "      <td>1.00</td>\n",
       "    </tr>\n",
       "    <tr>\n",
       "      <th>57</th>\n",
       "      <td>2020-07-31</td>\n",
       "      <td>1.00</td>\n",
       "    </tr>\n",
       "    <tr>\n",
       "      <th>66</th>\n",
       "      <td>2020-09-05</td>\n",
       "      <td>0.93</td>\n",
       "    </tr>\n",
       "  </tbody>\n",
       "</table>\n",
       "<p>78 rows × 2 columns</p>\n",
       "</div>"
      ],
      "text/plain": [
       "   contribution_receipt_date  contribution_receipt_amount\n",
       "3                 2019-03-05                      5600.00\n",
       "74                2020-09-21                       500.00\n",
       "67                2020-09-06                       295.43\n",
       "76                2020-09-28                       250.00\n",
       "72                2020-09-14                       250.00\n",
       "..                       ...                          ...\n",
       "49                2020-06-25                         1.00\n",
       "62                2020-08-10                         1.00\n",
       "75                2020-09-25                         1.00\n",
       "57                2020-07-31                         1.00\n",
       "66                2020-09-05                         0.93\n",
       "\n",
       "[78 rows x 2 columns]"
      ]
     },
     "execution_count": 8,
     "metadata": {},
     "output_type": "execute_result"
    }
   ],
   "source": [
    "df_max = df_trump.sort_values(by=\"contribution_receipt_amount\", ascending=False)\n",
    "\n",
    "df_max"
   ]
  },
  {
   "cell_type": "code",
   "execution_count": 9,
   "metadata": {},
   "outputs": [
    {
     "data": {
      "text/plain": [
       "10900.09"
      ]
     },
     "execution_count": 9,
     "metadata": {},
     "output_type": "execute_result"
    }
   ],
   "source": [
    "df_trump[\"contribution_receipt_amount\"].sum()"
   ]
  },
  {
   "cell_type": "code",
   "execution_count": 10,
   "metadata": {},
   "outputs": [
    {
     "name": "stdout",
     "output_type": "stream",
     "text": [
      "RNC:  1810.2\n"
     ]
    }
   ],
   "source": [
    "df_RNC = df_pataki = df_selections[df_selections[\"committee_name\"].str.contains(\"REPUBLICAN NATIONAL COMMITTEE\")]\n",
    "print(\"RNC: \", df_RNC[\"contribution_receipt_amount\"].sum())"
   ]
  },
  {
   "cell_type": "code",
   "execution_count": 11,
   "metadata": {
    "scrolled": false
   },
   "outputs": [
    {
     "data": {
      "text/plain": [
       "Text(0.5, 1.0, 'Contributions to Trump Campaign since 1/1/2019')"
      ]
     },
     "execution_count": 11,
     "metadata": {},
     "output_type": "execute_result"
    },
    {
     "data": {
      "image/png": "[encoded data removed]",
      "text/plain": [
       "<Figure size 1008x432 with 1 Axes>"
      ]
     },
     "metadata": {
      "needs_background": "light"
     },
     "output_type": "display_data"
    },
    {
     "data": {
      "image/png": "[encoded data removed]",
      "text/plain": [
       "<Figure size 1008x432 with 1 Axes>"
      ]
     },
     "metadata": {
      "needs_background": "light"
     },
     "output_type": "display_data"
    }
   ],
   "source": [
    "from datetime import datetime, timedelta\n",
    "t = np.arange(datetime(2019,1,1), datetime(2020,10,1), timedelta(days=30)).astype(datetime)\n",
    "# y = [0, 2000, 4000, 6000, 8000, 10000, 12000, 14000]\n",
    "\n",
    "ax1 = df_biden.plot(x=\"contribution_receipt_date\", y=\"contribution_receipt_amount\",\n",
    "             figsize=(14, 6))\n",
    "ax1.set_xticks(t)\n",
    "ax1.set_ylim([0, 14000])\n",
    "ax1.set_title(\"Contributions to Biden Camapaign since 1/1/2019\")\n",
    "\n",
    "\n",
    "ax2 = df_trump.plot(x=\"contribution_receipt_date\", y=\"contribution_receipt_amount\",\n",
    "                   figsize=(14,6),\n",
    "                   color=\"red\")\n",
    "ax2.set_xticks(t)\n",
    "ax2.set_ylim([0, 14000])\n",
    "ax2.set_title(\"Contributions to Trump Campaign since 1/1/2019\")"
   ]
  },
  {
   "cell_type": "markdown",
   "metadata": {},
   "source": [
    "## Collect and visualize top committes by funds raised over 2019-2020"
   ]
  },
  {
   "cell_type": "code",
   "execution_count": 12,
   "metadata": {},
   "outputs": [
    {
     "data": {
      "text/html": [
       "<div>\n",
       "<style scoped>\n",
       "    .dataframe tbody tr th:only-of-type {\n",
       "        vertical-align: middle;\n",
       "    }\n",
       "\n",
       "    .dataframe tbody tr th {\n",
       "        vertical-align: top;\n",
       "    }\n",
       "\n",
       "    .dataframe thead th {\n",
       "        text-align: right;\n",
       "    }\n",
       "</style>\n",
       "<table border=\"1\" class=\"dataframe\">\n",
       "  <thead>\n",
       "    <tr style=\"text-align: right;\">\n",
       "      <th></th>\n",
       "      <th>index</th>\n",
       "      <th>committee_name</th>\n",
       "      <th>contribution_receipt_amount</th>\n",
       "    </tr>\n",
       "  </thead>\n",
       "  <tbody>\n",
       "    <tr>\n",
       "      <th>0</th>\n",
       "      <td>4</td>\n",
       "      <td>ACTBLUE</td>\n",
       "      <td>744165.71</td>\n",
       "    </tr>\n",
       "    <tr>\n",
       "      <th>1</th>\n",
       "      <td>31</td>\n",
       "      <td>BIDEN FOR PRESIDENT</td>\n",
       "      <td>321338.12</td>\n",
       "    </tr>\n",
       "    <tr>\n",
       "      <th>2</th>\n",
       "      <td>34</td>\n",
       "      <td>BLUE TIDE NY-1 LLC</td>\n",
       "      <td>172000.00</td>\n",
       "    </tr>\n",
       "    <tr>\n",
       "      <th>3</th>\n",
       "      <td>28</td>\n",
       "      <td>BERNIE 2020</td>\n",
       "      <td>70965.79</td>\n",
       "    </tr>\n",
       "    <tr>\n",
       "      <th>4</th>\n",
       "      <td>86</td>\n",
       "      <td>DNC SERVICES CORP / DEMOCRATIC NATIONAL COMMITTEE</td>\n",
       "      <td>67177.50</td>\n",
       "    </tr>\n",
       "  </tbody>\n",
       "</table>\n",
       "</div>"
      ],
      "text/plain": [
       "   index                                     committee_name  \\\n",
       "0      4                                            ACTBLUE   \n",
       "1     31                                BIDEN FOR PRESIDENT   \n",
       "2     34                                 BLUE TIDE NY-1 LLC   \n",
       "3     28                                        BERNIE 2020   \n",
       "4     86  DNC SERVICES CORP / DEMOCRATIC NATIONAL COMMITTEE   \n",
       "\n",
       "   contribution_receipt_amount  \n",
       "0                    744165.71  \n",
       "1                    321338.12  \n",
       "2                    172000.00  \n",
       "3                     70965.79  \n",
       "4                     67177.50  "
      ]
     },
     "execution_count": 12,
     "metadata": {},
     "output_type": "execute_result"
    }
   ],
   "source": [
    "df_committees = df_selections.groupby([\"committee_name\"], as_index=False).sum()\n",
    "df_committees.sort_values(by=\"contribution_receipt_amount\", ascending=False, inplace=True)\n",
    "df_committees.reset_index(inplace=True)\n",
    "\n",
    "df_committees.head()"
   ]
  },
  {
   "cell_type": "code",
   "execution_count": 13,
   "metadata": {},
   "outputs": [
    {
     "data": {
      "image/png": "[encoded data removed]",
      "text/plain": [
       "<Figure size 720x432 with 1 Axes>"
      ]
     },
     "metadata": {
      "needs_background": "light"
     },
     "output_type": "display_data"
    }
   ],
   "source": [
    "ax3 = df_committees.head(15).plot(kind=\"barh\",\n",
    "                        x = \"committee_name\",\n",
    "                        y = \"contribution_receipt_amount\",\n",
    "                                 figsize=(10,6))\n",
    "ax3.invert_yaxis()"
   ]
  },
  {
   "cell_type": "code",
   "execution_count": 14,
   "metadata": {},
   "outputs": [
    {
     "name": "stdout",
     "output_type": "stream",
     "text": [
      "Bernie:  70965.79000000001\n"
     ]
    }
   ],
   "source": [
    "df_bernie = df_selections[df_selections[\"committee_name\"].str.contains(\"BERNIE 2020\")]\n",
    "print(\"Bernie: \", df_bernie[\"contribution_receipt_amount\"].sum())"
   ]
  },
  {
   "cell_type": "markdown",
   "metadata": {},
   "source": [
    "## Collect and visualize occupation of individual Columbia donors "
   ]
  },
  {
   "cell_type": "code",
   "execution_count": 16,
   "metadata": {},
   "outputs": [
    {
     "data": {
      "text/plain": [
       "PROFESSOR             527\n",
       "PHYSICIAN             229\n",
       "STUDENT               199\n",
       "GRADUATE STUDENT      134\n",
       "RESEARCHER            100\n",
       "SCIENTIST              92\n",
       "RESEARCH ASSISTANT     83\n",
       "TEACHER                67\n",
       "ADMINISTRATOR          62\n",
       "PHD STUDENT            53\n",
       "TEACHING ASSISTANT     44\n",
       "LECTURER               39\n",
       "EDUCATOR               33\n",
       "LIBRARIAN              32\n",
       "RESEARCH SCIENTIST     29\n",
       "Name: contributor_occupation, dtype: int64"
      ]
     },
     "execution_count": 16,
     "metadata": {},
     "output_type": "execute_result"
    }
   ],
   "source": [
    "df_occ = df_selections.drop_duplicates(subset=[\"contributor_last_name\", \"contributor_middle_name\",\n",
    "                                              \"contributor_middle_name\"])\n",
    "\n",
    "occupations = df_occ[\"contributor_occupation\"].value_counts()\n",
    "\n",
    "occupations.head(15)"
   ]
  },
  {
   "cell_type": "code",
   "execution_count": 13,
   "metadata": {},
   "outputs": [
    {
     "data": {
      "text/plain": [
       "971"
      ]
     },
     "execution_count": 13,
     "metadata": {},
     "output_type": "execute_result"
    }
   ],
   "source": [
    "len(occupations)"
   ]
  },
  {
   "cell_type": "code",
   "execution_count": 26,
   "metadata": {},
   "outputs": [
    {
     "ename": "IndexError",
     "evalue": "index out of bounds",
     "output_type": "error",
     "traceback": [
      "\u001b[0;31m---------------------------------------------------------------------------\u001b[0m",
      "\u001b[0;31mKeyError\u001b[0m                                  Traceback (most recent call last)",
      "\u001b[0;32m/Library/Frameworks/Python.framework/Versions/3.8/lib/python3.8/site-packages/pandas/core/indexes/base.py\u001b[0m in \u001b[0;36mget_value\u001b[0;34m(self, series, key)\u001b[0m\n\u001b[1;32m   4729\u001b[0m         \u001b[0;32mtry\u001b[0m\u001b[0;34m:\u001b[0m\u001b[0;34m\u001b[0m\u001b[0;34m\u001b[0m\u001b[0m\n\u001b[0;32m-> 4730\u001b[0;31m             \u001b[0;32mreturn\u001b[0m \u001b[0mself\u001b[0m\u001b[0;34m.\u001b[0m\u001b[0m_engine\u001b[0m\u001b[0;34m.\u001b[0m\u001b[0mget_value\u001b[0m\u001b[0;34m(\u001b[0m\u001b[0ms\u001b[0m\u001b[0;34m,\u001b[0m \u001b[0mk\u001b[0m\u001b[0;34m,\u001b[0m \u001b[0mtz\u001b[0m\u001b[0;34m=\u001b[0m\u001b[0mgetattr\u001b[0m\u001b[0;34m(\u001b[0m\u001b[0mseries\u001b[0m\u001b[0;34m.\u001b[0m\u001b[0mdtype\u001b[0m\u001b[0;34m,\u001b[0m \u001b[0;34m\"tz\"\u001b[0m\u001b[0;34m,\u001b[0m \u001b[0;32mNone\u001b[0m\u001b[0;34m)\u001b[0m\u001b[0;34m)\u001b[0m\u001b[0;34m\u001b[0m\u001b[0;34m\u001b[0m\u001b[0m\n\u001b[0m\u001b[1;32m   4731\u001b[0m         \u001b[0;32mexcept\u001b[0m \u001b[0mKeyError\u001b[0m \u001b[0;32mas\u001b[0m \u001b[0me1\u001b[0m\u001b[0;34m:\u001b[0m\u001b[0;34m\u001b[0m\u001b[0;34m\u001b[0m\u001b[0m\n",
      "\u001b[0;32mpandas/_libs/index.pyx\u001b[0m in \u001b[0;36mpandas._libs.index.IndexEngine.get_value\u001b[0;34m()\u001b[0m\n",
      "\u001b[0;32mpandas/_libs/index.pyx\u001b[0m in \u001b[0;36mpandas._libs.index.IndexEngine.get_value\u001b[0;34m()\u001b[0m\n",
      "\u001b[0;32mpandas/_libs/index.pyx\u001b[0m in \u001b[0;36mpandas._libs.index.IndexEngine.get_loc\u001b[0;34m()\u001b[0m\n",
      "\u001b[0;32mpandas/_libs/hashtable_class_helper.pxi\u001b[0m in \u001b[0;36mpandas._libs.hashtable.PyObjectHashTable.get_item\u001b[0;34m()\u001b[0m\n",
      "\u001b[0;32mpandas/_libs/hashtable_class_helper.pxi\u001b[0m in \u001b[0;36mpandas._libs.hashtable.PyObjectHashTable.get_item\u001b[0;34m()\u001b[0m\n",
      "\u001b[0;31mKeyError\u001b[0m: 971",
      "\nDuring handling of the above exception, another exception occurred:\n",
      "\u001b[0;31mIndexError\u001b[0m                                Traceback (most recent call last)",
      "\u001b[0;32m<ipython-input-26-b30d0a394912>\u001b[0m in \u001b[0;36m<module>\u001b[0;34m\u001b[0m\n\u001b[1;32m      1\u001b[0m \u001b[0mothers\u001b[0m \u001b[0;34m=\u001b[0m \u001b[0;36m0\u001b[0m\u001b[0;34m\u001b[0m\u001b[0;34m\u001b[0m\u001b[0m\n\u001b[1;32m      2\u001b[0m \u001b[0;32mfor\u001b[0m \u001b[0mx\u001b[0m \u001b[0;32min\u001b[0m \u001b[0mrange\u001b[0m\u001b[0;34m(\u001b[0m\u001b[0;36m15\u001b[0m\u001b[0;34m,\u001b[0m \u001b[0;36m972\u001b[0m\u001b[0;34m,\u001b[0m \u001b[0;36m1\u001b[0m\u001b[0;34m)\u001b[0m\u001b[0;34m:\u001b[0m\u001b[0;34m\u001b[0m\u001b[0;34m\u001b[0m\u001b[0m\n\u001b[0;32m----> 3\u001b[0;31m     \u001b[0mothers\u001b[0m \u001b[0;34m+=\u001b[0m \u001b[0moccupations\u001b[0m\u001b[0;34m[\u001b[0m\u001b[0mx\u001b[0m\u001b[0;34m]\u001b[0m\u001b[0;34m\u001b[0m\u001b[0;34m\u001b[0m\u001b[0m\n\u001b[0m\u001b[1;32m      4\u001b[0m \u001b[0;34m\u001b[0m\u001b[0m\n\u001b[1;32m      5\u001b[0m \u001b[0mothers\u001b[0m\u001b[0;34m\u001b[0m\u001b[0;34m\u001b[0m\u001b[0m\n",
      "\u001b[0;32m/Library/Frameworks/Python.framework/Versions/3.8/lib/python3.8/site-packages/pandas/core/series.py\u001b[0m in \u001b[0;36m__getitem__\u001b[0;34m(self, key)\u001b[0m\n\u001b[1;32m   1069\u001b[0m         \u001b[0mkey\u001b[0m \u001b[0;34m=\u001b[0m \u001b[0mcom\u001b[0m\u001b[0;34m.\u001b[0m\u001b[0mapply_if_callable\u001b[0m\u001b[0;34m(\u001b[0m\u001b[0mkey\u001b[0m\u001b[0;34m,\u001b[0m \u001b[0mself\u001b[0m\u001b[0;34m)\u001b[0m\u001b[0;34m\u001b[0m\u001b[0;34m\u001b[0m\u001b[0m\n\u001b[1;32m   1070\u001b[0m         \u001b[0;32mtry\u001b[0m\u001b[0;34m:\u001b[0m\u001b[0;34m\u001b[0m\u001b[0;34m\u001b[0m\u001b[0m\n\u001b[0;32m-> 1071\u001b[0;31m             \u001b[0mresult\u001b[0m \u001b[0;34m=\u001b[0m \u001b[0mself\u001b[0m\u001b[0;34m.\u001b[0m\u001b[0mindex\u001b[0m\u001b[0;34m.\u001b[0m\u001b[0mget_value\u001b[0m\u001b[0;34m(\u001b[0m\u001b[0mself\u001b[0m\u001b[0;34m,\u001b[0m \u001b[0mkey\u001b[0m\u001b[0;34m)\u001b[0m\u001b[0;34m\u001b[0m\u001b[0;34m\u001b[0m\u001b[0m\n\u001b[0m\u001b[1;32m   1072\u001b[0m \u001b[0;34m\u001b[0m\u001b[0m\n\u001b[1;32m   1073\u001b[0m             \u001b[0;32mif\u001b[0m \u001b[0;32mnot\u001b[0m \u001b[0mis_scalar\u001b[0m\u001b[0;34m(\u001b[0m\u001b[0mresult\u001b[0m\u001b[0;34m)\u001b[0m\u001b[0;34m:\u001b[0m\u001b[0;34m\u001b[0m\u001b[0;34m\u001b[0m\u001b[0m\n",
      "\u001b[0;32m/Library/Frameworks/Python.framework/Versions/3.8/lib/python3.8/site-packages/pandas/core/indexes/base.py\u001b[0m in \u001b[0;36mget_value\u001b[0;34m(self, series, key)\u001b[0m\n\u001b[1;32m   4734\u001b[0m \u001b[0;34m\u001b[0m\u001b[0m\n\u001b[1;32m   4735\u001b[0m             \u001b[0;32mtry\u001b[0m\u001b[0;34m:\u001b[0m\u001b[0;34m\u001b[0m\u001b[0;34m\u001b[0m\u001b[0m\n\u001b[0;32m-> 4736\u001b[0;31m                 \u001b[0;32mreturn\u001b[0m \u001b[0mlibindex\u001b[0m\u001b[0;34m.\u001b[0m\u001b[0mget_value_box\u001b[0m\u001b[0;34m(\u001b[0m\u001b[0ms\u001b[0m\u001b[0;34m,\u001b[0m \u001b[0mkey\u001b[0m\u001b[0;34m)\u001b[0m\u001b[0;34m\u001b[0m\u001b[0;34m\u001b[0m\u001b[0m\n\u001b[0m\u001b[1;32m   4737\u001b[0m             \u001b[0;32mexcept\u001b[0m \u001b[0mIndexError\u001b[0m\u001b[0;34m:\u001b[0m\u001b[0;34m\u001b[0m\u001b[0;34m\u001b[0m\u001b[0m\n\u001b[1;32m   4738\u001b[0m                 \u001b[0;32mraise\u001b[0m\u001b[0;34m\u001b[0m\u001b[0;34m\u001b[0m\u001b[0m\n",
      "\u001b[0;32mpandas/_libs/index.pyx\u001b[0m in \u001b[0;36mpandas._libs.index.get_value_box\u001b[0;34m()\u001b[0m\n",
      "\u001b[0;32mpandas/_libs/index.pyx\u001b[0m in \u001b[0;36mpandas._libs.index.get_value_at\u001b[0;34m()\u001b[0m\n",
      "\u001b[0;32mpandas/_libs/util.pxd\u001b[0m in \u001b[0;36mpandas._libs.util.get_value_at\u001b[0;34m()\u001b[0m\n",
      "\u001b[0;32mpandas/_libs/util.pxd\u001b[0m in \u001b[0;36mpandas._libs.util.validate_indexer\u001b[0;34m()\u001b[0m\n",
      "\u001b[0;31mIndexError\u001b[0m: index out of bounds"
     ]
    }
   ],
   "source": [
    "others = 0\n",
    "for x in range(15, 972, 1):\n",
    "    others += occupations[x]\n",
    "    \n",
    "others"
   ]
  },
  {
   "cell_type": "code",
   "execution_count": 15,
   "metadata": {
    "scrolled": false
   },
   "outputs": [
    {
     "data": {
      "image/png": "[encoded data removed]",
      "text/plain": [
       "<Figure size 720x432 with 1 Axes>"
      ]
     },
     "metadata": {
      "needs_background": "light"
     },
     "output_type": "display_data"
    }
   ],
   "source": [
    "ax4 = occupations.head(15).plot(kind=\"barh\",\n",
    "                               figsize=(10,6))\n",
    "ax4.invert_yaxis()"
   ]
  },
  {
   "cell_type": "markdown",
   "metadata": {},
   "source": [
    "## Bubble plot for individual Columbia donors"
   ]
  },
  {
   "cell_type": "code",
   "execution_count": 23,
   "metadata": {},
   "outputs": [],
   "source": [
    "from pprint import pprint as pp\n",
    "import circlify as circ"
   ]
  },
  {
   "cell_type": "code",
   "execution_count": 25,
   "metadata": {},
   "outputs": [
    {
     "name": "stdout",
     "output_type": "stream",
     "text": [
      "[Circle(x=-0.8246740102706162, y=-0.3603824506074648, r=0.10002070361498756, level=1, ex={'datum': 29}),\n",
      " Circle(x=-0.41752045684636646, y=-0.48627855559102334, r=0.1050668944304286, level=1, ex={'datum': 32}),\n",
      " Circle(x=-0.7940444584156029, y=-0.15594762110682883, r=0.10669593567607924, level=1, ex={'datum': 33}),\n",
      " Circle(x=-0.8289495457878102, y=0.15095752353235095, r=0.11599071082215731, level=1, ex={'datum': 39}),\n",
      " Circle(x=-0.19548416811349262, y=-0.4333020686958607, r=0.12320185436804669, level=1, ex={'datum': 44}),\n",
      " Circle(x=-0.5859786225784833, y=-0.2997832914228307, r=0.1462469276307411, level=1, ex={'datum': 62}),\n",
      " Circle(x=-0.3112579679913343, y=-0.1836046306135065, r=0.15202965422616502, level=1, ex={'datum': 67}),\n",
      " Circle(x=-0.5779292259008157, y=0.015572453353131276, r=0.16921153009400602, level=1, ex={'datum': 83}),\n",
      " Circle(x=-0.6221311068572004, y=0.3601097364531111, r=0.17814958708233825, level=1, ex={'datum': 92}),\n",
      " Circle(x=-0.3954380183130944, y=0.6447522336828151, r=0.1857337838249179, level=1, ex={'datum': 100}),\n",
      " Circle(x=0.05508113945435852, y=-0.20614761999421977, r=0.21500239888953468, level=1, ex={'datum': 134}),\n",
      " Circle(x=0.045425574473729066, y=0.722941492806359, r=0.2620097450922455, level=1, ex={'datum': 199}),\n",
      " Circle(x=-0.18182241310027022, y=0.22969728127773528, r=0.28106621650329994, level=1, ex={'datum': 229}),\n",
      " Circle(x=0.5256232032949164, y=0.22969728127773528, r=0.4263793998918867, level=1, ex={'datum': 527})]\n"
     ]
    },
    {
     "data": {
      "image/png": "[encoded data removed]",
      "text/plain": [
       "<Figure size 576x576 with 1 Axes>"
      ]
     },
     "metadata": {
      "needs_background": "light"
     },
     "output_type": "display_data"
    }
   ],
   "source": [
    "circles2 = circ.circlify([occupations[0], \n",
    "                          occupations[1], \n",
    "                          occupations[2],\n",
    "                          occupations[3],\n",
    "                          occupations[4],\n",
    "                          occupations[5],\n",
    "                          occupations[6],\n",
    "                          occupations[7],\n",
    "                          occupations[8],\n",
    "                          occupations[10],\n",
    "                          occupations[11],\n",
    "                         occupations[12],\n",
    "                         occupations[13],\n",
    "                         occupations[14]],\n",
    "                         show_enclosure=False)\n",
    "pp(circles2)\n",
    "circ.bubbles(circles2)"
   ]
  }
 ],
 "metadata": {
  "kernelspec": {
   "display_name": "Python 3",
   "language": "python",
   "name": "python3"
  },
  "language_info": {
   "codemirror_mode": {
    "name": "ipython",
    "version": 3
   },
   "file_extension": ".py",
   "mimetype": "text/x-python",
   "name": "python",
   "nbconvert_exporter": "python",
   "pygments_lexer": "ipython3",
   "version": "3.8.0"
  }
 },
 "nbformat": 4,
 "nbformat_minor": 4
}
