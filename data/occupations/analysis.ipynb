{
 "cells": [
  {
   "cell_type": "code",
   "execution_count": 1,
   "metadata": {},
   "outputs": [],
   "source": [
    "import os\n",
    "\n",
    "import pandas as pd\n",
    "import numpy as np\n",
    "import matplotlib\n",
    "import matplotlib.pyplot as plt\n",
    "import collections\n",
    "import csv\n",
    "\n",
    "from pprint import pprint as pp\n",
    "import circlify as circ\n",
    "\n",
    "matplotlib.rcParams['pdf.fonttype'] = 42\n",
    "matplotlib.rcParams['ps.fonttype'] = 42\n",
    "\n",
    "DIR = os.getcwd()"
   ]
  },
  {
   "cell_type": "markdown",
   "metadata": {},
   "source": [
    "# 2020 contributions"
   ]
  },
  {
   "cell_type": "code",
   "execution_count": 2,
   "metadata": {},
   "outputs": [
    {
     "name": "stdout",
     "output_type": "stream",
     "text": [
      "True\n",
      "5364 397 4967\n"
     ]
    }
   ],
   "source": [
    "df20 = pd.read_csv(\"../2019to2020contributions.csv\",\n",
    "                    parse_dates = [\"contribution_receipt_date\"], low_memory=False) \n",
    "\n",
    "df20 = df20[[ \"contributor_employer\", \n",
    "                   \"contributor_occupation\", \"contributor_first_name\", \n",
    "                   \"contributor_middle_name\", \"contributor_last_name\",\"contribution_receipt_amount\"]]\n",
    "\n",
    "df20 = df20.drop_duplicates(subset=[\"contributor_first_name\", \n",
    "                   \"contributor_middle_name\", \"contributor_last_name\",])\n",
    "df20 = df20[df20[\"contribution_receipt_amount\"] >= 0]\n",
    "\n",
    "len_orig = df20.shape[0]\n",
    "\n",
    "faux = [\"MISSOURI\", \"BRITISH\", \"DISTRICT\", \"CHICAGO\", \"INTERNATIONAL\", \"MO\", \"UNIVERSITY HOSPITAL\", \"FLORIDA\",\n",
    "       \"CAROLINA\" , \"BRIRISH\", \"SOUTHERN\"]\n",
    "df20_notCU = df20[df20.contributor_employer.str.contains('|'.join(faux))]\n",
    "df20_CU = df20[~df20.contributor_employer.str.contains('|'.join(faux))]\n",
    "\n",
    "len_notCU = df20_notCU.shape[0]\n",
    "len_CU = df20_CU.shape[0]\n",
    "\n",
    "print(len_notCU + len_CU == len_orig)\n",
    "print(len_orig, len_notCU, len_CU)"
   ]
  },
  {
   "cell_type": "code",
   "execution_count": 3,
   "metadata": {},
   "outputs": [],
   "source": [
    "df20_CU.to_csv(\"occs_CU.csv\")\n",
    "# df20_notCU.to_csv(\"occs_notCU.csv\")\n",
    "# df20.to_csv(\"occs_orig.csv\")"
   ]
  },
  {
   "cell_type": "code",
   "execution_count": 4,
   "metadata": {},
   "outputs": [],
   "source": [
    "occs20_CU = collections.Counter(df20_CU[\"contributor_occupation\"])\n",
    "# occs20_notCU = collections.Counter(df20_notCU[\"contributor_occupation\"])\n",
    "# occs20 = collections.Counter(df20[\"contributor_occupation\"])\n",
    "\n",
    "with open('2020occs_CU.csv','w') as csvfile:\n",
    "    writer=csv.writer(csvfile)\n",
    "    for key, value in occs20_CU.items():\n",
    "        writer.writerow([key] + [value]) \n",
    "\n",
    "# with open('2020occs_notCU.csv','w') as csvfile:\n",
    "#     writer=csv.writer(csvfile)\n",
    "#     for key, value in occs20_notCU.items():\n",
    "#         writer.writerow([key] + [value]) \n",
    "              \n",
    "# with open('2020occs_all.csv','w') as csvfile:\n",
    "#     writer=csv.writer(csvfile)\n",
    "#     for key, value in occs20.items():\n",
    "#         writer.writerow([key] + [value]) "
   ]
  },
  {
   "cell_type": "markdown",
   "metadata": {},
   "source": [
    "pre-update: I took the original output (without the faux and with the buggy drop_duplicates) and manually sorted the professions\n",
    "the previous sorting can be found at 2020occs_categorized.csv\n",
    "\n",
    "new: the next block updates the original sorted counts with the correct numbers (after adding the faux and fixing the drop_duplicates)"
   ]
  },
  {
   "cell_type": "code",
   "execution_count": 21,
   "metadata": {},
   "outputs": [
    {
     "data": {
      "text/html": [
       "<div>\n",
       "<style scoped>\n",
       "    .dataframe tbody tr th:only-of-type {\n",
       "        vertical-align: middle;\n",
       "    }\n",
       "\n",
       "    .dataframe tbody tr th {\n",
       "        vertical-align: top;\n",
       "    }\n",
       "\n",
       "    .dataframe thead th {\n",
       "        text-align: right;\n",
       "    }\n",
       "</style>\n",
       "<table border=\"1\" class=\"dataframe\">\n",
       "  <thead>\n",
       "    <tr style=\"text-align: right;\">\n",
       "      <th></th>\n",
       "      <th>occupation</th>\n",
       "      <th>count</th>\n",
       "      <th>category</th>\n",
       "    </tr>\n",
       "  </thead>\n",
       "  <tbody>\n",
       "    <tr>\n",
       "      <th>0</th>\n",
       "      <td>RESEARCHER</td>\n",
       "      <td>125</td>\n",
       "      <td>ACADEMIA</td>\n",
       "    </tr>\n",
       "    <tr>\n",
       "      <th>1</th>\n",
       "      <td>PHYSICIAN</td>\n",
       "      <td>294</td>\n",
       "      <td>MEDICAL</td>\n",
       "    </tr>\n",
       "    <tr>\n",
       "      <th>2</th>\n",
       "      <td>PROFESSOR</td>\n",
       "      <td>667</td>\n",
       "      <td>FACULTY</td>\n",
       "    </tr>\n",
       "    <tr>\n",
       "      <th>3</th>\n",
       "      <td>PH.D. CANDIDATE</td>\n",
       "      <td>2</td>\n",
       "      <td>GRAD</td>\n",
       "    </tr>\n",
       "    <tr>\n",
       "      <th>4</th>\n",
       "      <td>SCIENTIST</td>\n",
       "      <td>121</td>\n",
       "      <td>ACADEMIA</td>\n",
       "    </tr>\n",
       "    <tr>\n",
       "      <th>...</th>\n",
       "      <td>...</td>\n",
       "      <td>...</td>\n",
       "      <td>...</td>\n",
       "    </tr>\n",
       "    <tr>\n",
       "      <th>1147</th>\n",
       "      <td>EXEC DIRECTOR</td>\n",
       "      <td>1</td>\n",
       "      <td>ADMIN</td>\n",
       "    </tr>\n",
       "    <tr>\n",
       "      <th>1148</th>\n",
       "      <td>INFORMATION SECURITY MANAGER</td>\n",
       "      <td>1</td>\n",
       "      <td>ADMIN</td>\n",
       "    </tr>\n",
       "    <tr>\n",
       "      <th>1149</th>\n",
       "      <td>HUMAN RESOURCES MANAGEMENT PROFESSIONA</td>\n",
       "      <td>1</td>\n",
       "      <td>ADMIN</td>\n",
       "    </tr>\n",
       "    <tr>\n",
       "      <th>1150</th>\n",
       "      <td>SYSTEM TRAINER</td>\n",
       "      <td>1</td>\n",
       "      <td>NaN</td>\n",
       "    </tr>\n",
       "    <tr>\n",
       "      <th>1151</th>\n",
       "      <td>WORKER BEE</td>\n",
       "      <td>1</td>\n",
       "      <td>OTHER</td>\n",
       "    </tr>\n",
       "  </tbody>\n",
       "</table>\n",
       "<p>1152 rows × 3 columns</p>\n",
       "</div>"
      ],
      "text/plain": [
       "                                  occupation  count  category\n",
       "0                                 RESEARCHER    125  ACADEMIA\n",
       "1                                  PHYSICIAN    294   MEDICAL\n",
       "2                                  PROFESSOR    667   FACULTY\n",
       "3                            PH.D. CANDIDATE      2      GRAD\n",
       "4                                  SCIENTIST    121  ACADEMIA\n",
       "...                                      ...    ...       ...\n",
       "1147                           EXEC DIRECTOR      1     ADMIN\n",
       "1148            INFORMATION SECURITY MANAGER      1     ADMIN\n",
       "1149  HUMAN RESOURCES MANAGEMENT PROFESSIONA      1     ADMIN\n",
       "1150                          SYSTEM TRAINER      1       NaN\n",
       "1151                              WORKER BEE      1     OTHER\n",
       "\n",
       "[1152 rows x 3 columns]"
      ]
     },
     "execution_count": 21,
     "metadata": {},
     "output_type": "execute_result"
    }
   ],
   "source": [
    "# taking the original sorting (2020occs_categorized.csv) and \n",
    "# updating the counts with proper drop_duplicates and faux\n",
    "updated20_counts = pd.DataFrame.from_dict(occs20_CU, orient='index').reset_index()\n",
    "updated20_counts = updated20_counts.rename(columns={'index':'occupation', 0:'count'})\n",
    "\n",
    "categories20 = pd.read_csv(\"2020occs_categorized.csv\")\n",
    "categories20 = categories20.drop(columns=[\"count\"])\n",
    "\n",
    "updated20_counts_wlabel = updated20_counts.merge(categories20, how = \"left\", on=\"occupation\")\n",
    "updated20_counts_wlabel"
   ]
  },
  {
   "cell_type": "code",
   "execution_count": 24,
   "metadata": {},
   "outputs": [],
   "source": [
    "updated20_counts_wlabel.to_excel(\"NEW2020SORTED.xlsx\")"
   ]
  },
  {
   "cell_type": "markdown",
   "metadata": {},
   "source": [
    "For all the NaNs, I relabeled them manually\n",
    "\n",
    "Final labels and summary statistics can be found at NEW2020SORTED.xlsx"
   ]
  },
  {
   "cell_type": "code",
   "execution_count": 25,
   "metadata": {},
   "outputs": [
    {
     "name": "stdout",
     "output_type": "stream",
     "text": [
      "[Circle(x=-0.6798773431732197, y=-0.3251063469385019, r=0.14277056036290678, level=1, ex={'datum': 145}),\n",
      " Circle(x=-0.4222344521590375, y=-0.6417106352797192, r=0.2063839771016141, level=1, ex={'datum': 303}),\n",
      " Circle(x=-0.7811726063839696, y=0.01842431754932889, r=0.21538310469217203, level=1, ex={'datum': 330}),\n",
      " Circle(x=-0.5220809056414982, y=0.46496898815409426, r=0.30088296260176206, level=1, ex={'datum': 644}),\n",
      " Circle(x=0.08594518804024269, y=-0.6905362739080244, r=0.3041358459224597, level=1, ex={'datum': 658}),\n",
      " Circle(x=0.08564983190328637, y=0.4572659745082238, r=0.3068965909996702, level=1, ex={'datum': 670}),\n",
      " Circle(x=-0.23203512191421505, y=-0.11829485822636779, r=0.3505180438086557, level=1, ex={'datum': 874}),\n",
      " Circle(x=0.552985811795647, y=-0.11829485822636779, r=0.4345028899012064, level=1, ex={'datum': 1343})]\n"
     ]
    },
    {
     "data": {
      "image/png": "[encoded data removed]",
      "text/plain": [
       "<Figure size 576x576 with 1 Axes>"
      ]
     },
     "metadata": {
      "needs_background": "light"
     },
     "output_type": "display_data"
    }
   ],
   "source": [
    "# faculty, teaching positions, admin, academia & research, medical & health, undergrads, grad students, other\n",
    "# numbers from NEW2020SORTED.xlsx spreadsheet\n",
    "\n",
    "circs20 = sorted([874,303,1343,670,644,330,658,145])\n",
    "\n",
    "circles20 = circ.circlify(circs20, show_enclosure=False)\n",
    "pp(circles20)\n",
    "circ.bubbles(circles20)"
   ]
  },
  {
   "cell_type": "markdown",
   "metadata": {},
   "source": [
    "# 2016 contributions"
   ]
  },
  {
   "cell_type": "code",
   "execution_count": 27,
   "metadata": {},
   "outputs": [
    {
     "name": "stdout",
     "output_type": "stream",
     "text": [
      "True\n",
      "2577 246 2331\n"
     ]
    }
   ],
   "source": [
    "# # get data \n",
    "# df16 = pd.read_csv(DIR + \"/2015to2016contributions.csv\") \n",
    "# df16\n",
    "\n",
    "# # extract unique professions\n",
    "# df16_nodups = df16.drop_duplicates(subset=[\"contributor_last_name\", \"contributor_middle_name\",\n",
    "#                                               \"contributor_middle_name\"])\n",
    "# occs16 = collections.Counter(df16_nodups[\"contributor_occupation\"])\n",
    "\n",
    "# # export to spreadsheet in prepartion for manual sorting\n",
    "# with open('2016occs.csv','w') as csvfile:\n",
    "#     writer=csv.writer(csvfile)\n",
    "#     for key, value in occs16.items():\n",
    "#         writer.writerow([key] + [value]) \n",
    "              \n",
    "        \n",
    "df16 = pd.read_csv(\"../2015to2016contributions.csv\",\n",
    "                    parse_dates = [\"contribution_receipt_date\"], low_memory=False) \n",
    "\n",
    "df16 = df16[[ \"contributor_employer\", \n",
    "                   \"contributor_occupation\", \"contributor_first_name\", \n",
    "                   \"contributor_middle_name\", \"contributor_last_name\",\"contribution_receipt_amount\"]]\n",
    "\n",
    "df16 = df16.drop_duplicates(subset=[\"contributor_first_name\", \n",
    "                   \"contributor_middle_name\", \"contributor_last_name\",])\n",
    "df16 = df16[df16[\"contribution_receipt_amount\"] >= 0]\n",
    "\n",
    "len_orig = df16.shape[0]\n",
    "\n",
    "faux = [\"MISSOURI\", \"BRITISH\", \"DISTRICT\", \"CHICAGO\", \"INTERNATIONAL\", \"MO\", \"UNIVERSITY HOSPITAL\", \"FLORIDA\",\n",
    "       \"CAROLINA\" , \"BRIRISH\", \"SOUTHERN\"]\n",
    "df16_notCU = df16[df16.contributor_employer.str.contains('|'.join(faux))]\n",
    "df16_CU = df16[~df16.contributor_employer.str.contains('|'.join(faux))]\n",
    "\n",
    "len_notCU = df16_notCU.shape[0]\n",
    "len_CU = df16_CU.shape[0]\n",
    "\n",
    "print(len_notCU + len_CU == len_orig)\n",
    "print(len_orig, len_notCU, len_CU)"
   ]
  },
  {
   "cell_type": "code",
   "execution_count": 28,
   "metadata": {},
   "outputs": [],
   "source": [
    "df16_CU.to_csv(\"occs16_CU.csv\")\n",
    "# df16_notCU.to_csv(\"occs16_notCU.csv\")\n",
    "# df16.to_csv(\"occs16_orig.csv\")"
   ]
  },
  {
   "cell_type": "code",
   "execution_count": 29,
   "metadata": {},
   "outputs": [],
   "source": [
    "occs16_CU = collections.Counter(df16_CU[\"contributor_occupation\"])\n",
    "# occs16_notCU = collections.Counter(df16_notCU[\"contributor_occupation\"])\n",
    "# occs16 = collections.Counter(df16[\"contributor_occupation\"])\n",
    "\n",
    "with open('2016occs_CU.csv','w') as csvfile:\n",
    "    writer=csv.writer(csvfile)\n",
    "    for key, value in occs16_CU.items():\n",
    "        writer.writerow([key] + [value]) \n",
    "\n",
    "# with open('2016occs_notCU.csv','w') as csvfile:\n",
    "#     writer=csv.writer(csvfile)\n",
    "#     for key, value in occs16_notCU.items():\n",
    "#         writer.writerow([key] + [value]) \n",
    "              \n",
    "# with open('2016occs_all.csv','w') as csvfile:\n",
    "#     writer=csv.writer(csvfile)\n",
    "#     for key, value in occs16.items():\n",
    "#         writer.writerow([key] + [value]) "
   ]
  },
  {
   "cell_type": "markdown",
   "metadata": {},
   "source": [
    "pre-update: I took the original output (without the faux and with the buggy drop_duplicates) and manually sorted the professions\n",
    "the previous sorting can be found at 2016occs_categorized.csv\n",
    "\n",
    "new: the next block updates the original sorted counts with the correct numbers (after adding the faux and fixing the drop_duplicates)"
   ]
  },
  {
   "cell_type": "code",
   "execution_count": 30,
   "metadata": {},
   "outputs": [
    {
     "data": {
      "text/html": [
       "<div>\n",
       "<style scoped>\n",
       "    .dataframe tbody tr th:only-of-type {\n",
       "        vertical-align: middle;\n",
       "    }\n",
       "\n",
       "    .dataframe tbody tr th {\n",
       "        vertical-align: top;\n",
       "    }\n",
       "\n",
       "    .dataframe thead th {\n",
       "        text-align: right;\n",
       "    }\n",
       "</style>\n",
       "<table border=\"1\" class=\"dataframe\">\n",
       "  <thead>\n",
       "    <tr style=\"text-align: right;\">\n",
       "      <th></th>\n",
       "      <th>occupation</th>\n",
       "      <th>count</th>\n",
       "      <th>category</th>\n",
       "    </tr>\n",
       "  </thead>\n",
       "  <tbody>\n",
       "    <tr>\n",
       "      <th>0</th>\n",
       "      <td>PROFESSOR</td>\n",
       "      <td>385</td>\n",
       "      <td>FACULTY</td>\n",
       "    </tr>\n",
       "    <tr>\n",
       "      <th>1</th>\n",
       "      <td>STUDENT</td>\n",
       "      <td>332</td>\n",
       "      <td>UNDERGRADS</td>\n",
       "    </tr>\n",
       "    <tr>\n",
       "      <th>2</th>\n",
       "      <td>PHYSICIAN</td>\n",
       "      <td>166</td>\n",
       "      <td>MEDICAL</td>\n",
       "    </tr>\n",
       "    <tr>\n",
       "      <th>3</th>\n",
       "      <td>ADJUNCT PROFESSOR</td>\n",
       "      <td>20</td>\n",
       "      <td>FACULTY</td>\n",
       "    </tr>\n",
       "    <tr>\n",
       "      <th>4</th>\n",
       "      <td>RETIRED</td>\n",
       "      <td>8</td>\n",
       "      <td>OTHER</td>\n",
       "    </tr>\n",
       "    <tr>\n",
       "      <th>...</th>\n",
       "      <td>...</td>\n",
       "      <td>...</td>\n",
       "      <td>...</td>\n",
       "    </tr>\n",
       "    <tr>\n",
       "      <th>623</th>\n",
       "      <td>SPECIAL PROJECTS, COMMUNICATIONS OFFIC</td>\n",
       "      <td>1</td>\n",
       "      <td>NaN</td>\n",
       "    </tr>\n",
       "    <tr>\n",
       "      <th>624</th>\n",
       "      <td>ADMISSIONS</td>\n",
       "      <td>1</td>\n",
       "      <td>NaN</td>\n",
       "    </tr>\n",
       "    <tr>\n",
       "      <th>625</th>\n",
       "      <td>MASTERS STUDENT</td>\n",
       "      <td>1</td>\n",
       "      <td>GRAD</td>\n",
       "    </tr>\n",
       "    <tr>\n",
       "      <th>626</th>\n",
       "      <td>CURATOR &amp; POSTDOCTORAL RESEARCH SCHOLA</td>\n",
       "      <td>1</td>\n",
       "      <td>ACADEMIA</td>\n",
       "    </tr>\n",
       "    <tr>\n",
       "      <th>627</th>\n",
       "      <td>CONSULTANT ARTS &amp; CULTURE</td>\n",
       "      <td>1</td>\n",
       "      <td>ADMIN</td>\n",
       "    </tr>\n",
       "  </tbody>\n",
       "</table>\n",
       "<p>628 rows × 3 columns</p>\n",
       "</div>"
      ],
      "text/plain": [
       "                                 occupation  count    category\n",
       "0                                 PROFESSOR    385     FACULTY\n",
       "1                                   STUDENT    332  UNDERGRADS\n",
       "2                                 PHYSICIAN    166     MEDICAL\n",
       "3                         ADJUNCT PROFESSOR     20     FACULTY\n",
       "4                                   RETIRED      8       OTHER\n",
       "..                                      ...    ...         ...\n",
       "623  SPECIAL PROJECTS, COMMUNICATIONS OFFIC      1         NaN\n",
       "624                              ADMISSIONS      1         NaN\n",
       "625                         MASTERS STUDENT      1        GRAD\n",
       "626  CURATOR & POSTDOCTORAL RESEARCH SCHOLA      1    ACADEMIA\n",
       "627               CONSULTANT ARTS & CULTURE      1       ADMIN\n",
       "\n",
       "[628 rows x 3 columns]"
      ]
     },
     "execution_count": 30,
     "metadata": {},
     "output_type": "execute_result"
    }
   ],
   "source": [
    "# taking the original sorting (2016occs_categorized.csv) and \n",
    "# updating the counts with proper drop_duplicates and faux\n",
    "updated16_counts = pd.DataFrame.from_dict(occs16_CU, orient='index').reset_index()\n",
    "updated16_counts = updated16_counts.rename(columns={'index':'occupation', 0:'count'})\n",
    "\n",
    "categories16 = pd.read_csv(\"2016occs_categorized.csv\")\n",
    "categories16 = categories16.drop(columns=[\"count\"])\n",
    "\n",
    "updated16_counts_wlabel = updated16_counts.merge(categories16, how = \"left\", on=\"occupation\")\n",
    "updated16_counts_wlabel"
   ]
  },
  {
   "cell_type": "code",
   "execution_count": 33,
   "metadata": {},
   "outputs": [],
   "source": [
    "updated16_counts_wlabel.to_excel(\"NEW2016SORTED.xlsx\")"
   ]
  },
  {
   "cell_type": "markdown",
   "metadata": {},
   "source": [
    "For all the NaNs, I relabeled them manually\n",
    "\n",
    "Final labels and summary statistics can be found at NEW2016SORTED.xlsx"
   ]
  },
  {
   "cell_type": "code",
   "execution_count": 34,
   "metadata": {},
   "outputs": [
    {
     "name": "stdout",
     "output_type": "stream",
     "text": [
      "[Circle(x=-0.21453336074473475, y=-0.5576119651166822, r=0.1228548017512124, level=1, ex={'datum': 53}),\n",
      " Circle(x=-0.627213508097311, y=-0.31844838532836195, r=0.17456054512858898, level=1, ex={'datum': 107}),\n",
      " Circle(x=-0.7389606777349447, y=0.09612878852906484, r=0.2548130253268282, level=1, ex={'datum': 228}),\n",
      " Circle(x=-0.40024992435501594, y=0.5150250646089817, r=0.28388825049198846, level=1, ex={'datum': 283}),\n",
      " Circle(x=0.1998596032438539, y=-0.6392784799799726, r=0.29950872443584337, level=1, ex={'datum': 315}),\n",
      " Circle(x=0.19919906156489744, y=0.5016506613080121, r=0.31570991610299826, level=1, ex={'datum': 350}),\n",
      " Circle(x=-0.1486840245738994, y=-0.0785062790948943, r=0.36075495151328457, level=1, ex={'datum': 457}),\n",
      " Circle(x=0.6034930232047122, y=-0.0785062790948943, r=0.3914220962653271, level=1, ex={'datum': 538})]\n"
     ]
    },
    {
     "data": {
      "image/png": "[encoded data removed]",
      "text/plain": [
       "<Figure size 576x576 with 1 Axes>"
      ]
     },
     "metadata": {
      "needs_background": "light"
     },
     "output_type": "display_data"
    }
   ],
   "source": [
    "# faculty, teaching positions, admin, academia & research, medical & health, undergrads, grad students, other\n",
    "# numbers from NEW2016SORTED.xlsx spreadsheet\n",
    "\n",
    "circs16 = sorted([538,107,457,283,315,350,228,53])\n",
    "\n",
    "circles16 = circ.circlify(circs16, show_enclosure=False)\n",
    "pp(circles16)\n",
    "circ.bubbles(circles16)"
   ]
  },
  {
   "cell_type": "code",
   "execution_count": null,
   "metadata": {},
   "outputs": [],
   "source": []
  }
 ],
 "metadata": {
  "kernelspec": {
   "display_name": "Python 3",
   "language": "python",
   "name": "python3"
  },
  "language_info": {
   "codemirror_mode": {
    "name": "ipython",
    "version": 3
   },
   "file_extension": ".py",
   "mimetype": "text/x-python",
   "name": "python",
   "nbconvert_exporter": "python",
   "pygments_lexer": "ipython3",
   "version": "3.8.5"
  }
 },
 "nbformat": 4,
 "nbformat_minor": 2
}
