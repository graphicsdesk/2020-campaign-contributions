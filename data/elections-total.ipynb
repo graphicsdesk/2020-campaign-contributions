{
 "cells": [
  {
   "cell_type": "code",
   "execution_count": 20,
   "metadata": {},
   "outputs": [
    {
     "name": "stdout",
     "output_type": "stream",
     "text": [
      "/Users/lukedobrovic/Data/CampaignContributions\n"
     ]
    },
    {
     "data": {
      "text/html": [
       "<div>\n",
       "<style scoped>\n",
       "    .dataframe tbody tr th:only-of-type {\n",
       "        vertical-align: middle;\n",
       "    }\n",
       "\n",
       "    .dataframe tbody tr th {\n",
       "        vertical-align: top;\n",
       "    }\n",
       "\n",
       "    .dataframe thead th {\n",
       "        text-align: right;\n",
       "    }\n",
       "</style>\n",
       "<table border=\"1\" class=\"dataframe\">\n",
       "  <thead>\n",
       "    <tr style=\"text-align: right;\">\n",
       "      <th></th>\n",
       "      <th>committee_id</th>\n",
       "      <th>committee_name</th>\n",
       "      <th>report_year</th>\n",
       "      <th>report_type</th>\n",
       "      <th>image_number</th>\n",
       "      <th>line_number</th>\n",
       "      <th>transaction_id</th>\n",
       "      <th>file_number</th>\n",
       "      <th>committee_name.1</th>\n",
       "      <th>entity_type</th>\n",
       "      <th>...</th>\n",
       "      <th>filing_form</th>\n",
       "      <th>link_id</th>\n",
       "      <th>is_individual</th>\n",
       "      <th>memo_text</th>\n",
       "      <th>two_year_transaction_period</th>\n",
       "      <th>schedule_type</th>\n",
       "      <th>increased_limit</th>\n",
       "      <th>sub_id</th>\n",
       "      <th>pdf_url</th>\n",
       "      <th>line_number_label</th>\n",
       "    </tr>\n",
       "  </thead>\n",
       "  <tbody>\n",
       "    <tr>\n",
       "      <th>0</th>\n",
       "      <td>C00465492</td>\n",
       "      <td>FRIENDS OF JOE SESTAK</td>\n",
       "      <td>2013</td>\n",
       "      <td>Q2</td>\n",
       "      <td>201507210200225038</td>\n",
       "      <td>11AI</td>\n",
       "      <td>NaN</td>\n",
       "      <td>1020266</td>\n",
       "      <td>NaN</td>\n",
       "      <td>IND</td>\n",
       "      <td>...</td>\n",
       "      <td>F3</td>\n",
       "      <td>1040720160018595573</td>\n",
       "      <td>t</td>\n",
       "      <td>NaN</td>\n",
       "      <td>2014</td>\n",
       "      <td>SA</td>\n",
       "      <td>NaN</td>\n",
       "      <td>1040720160018595836</td>\n",
       "      <td>http://docquery.fec.gov/cgi-bin/fecimg/?201507...</td>\n",
       "      <td>Contributions From Individuals/Persons Other T...</td>\n",
       "    </tr>\n",
       "    <tr>\n",
       "      <th>1</th>\n",
       "      <td>C00575795</td>\n",
       "      <td>HILLARY FOR AMERICA</td>\n",
       "      <td>2016</td>\n",
       "      <td>M10</td>\n",
       "      <td>201701099041150117</td>\n",
       "      <td>17A</td>\n",
       "      <td>C11241249</td>\n",
       "      <td>1137625</td>\n",
       "      <td>NaN</td>\n",
       "      <td>IND</td>\n",
       "      <td>...</td>\n",
       "      <td>F3P</td>\n",
       "      <td>4010920171359608009</td>\n",
       "      <td>t</td>\n",
       "      <td>NaN</td>\n",
       "      <td>2016</td>\n",
       "      <td>SA</td>\n",
       "      <td>NaN</td>\n",
       "      <td>4011120171366214585</td>\n",
       "      <td>http://docquery.fec.gov/cgi-bin/fecimg/?201701...</td>\n",
       "      <td>Contributions From Individuals/Persons Other T...</td>\n",
       "    </tr>\n",
       "    <tr>\n",
       "      <th>2</th>\n",
       "      <td>C00465492</td>\n",
       "      <td>FRIENDS OF JOE SESTAK</td>\n",
       "      <td>2013</td>\n",
       "      <td>Q2</td>\n",
       "      <td>201507210200225036</td>\n",
       "      <td>11AI</td>\n",
       "      <td>NaN</td>\n",
       "      <td>1020266</td>\n",
       "      <td>NaN</td>\n",
       "      <td>IND</td>\n",
       "      <td>...</td>\n",
       "      <td>F3</td>\n",
       "      <td>1040720160018595573</td>\n",
       "      <td>t</td>\n",
       "      <td>NaN</td>\n",
       "      <td>2014</td>\n",
       "      <td>SA</td>\n",
       "      <td>NaN</td>\n",
       "      <td>1040720160018595829</td>\n",
       "      <td>http://docquery.fec.gov/cgi-bin/fecimg/?201507...</td>\n",
       "      <td>Contributions From Individuals/Persons Other T...</td>\n",
       "    </tr>\n",
       "    <tr>\n",
       "      <th>3</th>\n",
       "      <td>C00575795</td>\n",
       "      <td>HILLARY FOR AMERICA</td>\n",
       "      <td>2016</td>\n",
       "      <td>12G</td>\n",
       "      <td>201701099041274498</td>\n",
       "      <td>17A</td>\n",
       "      <td>C12244496</td>\n",
       "      <td>1137788</td>\n",
       "      <td>NaN</td>\n",
       "      <td>IND</td>\n",
       "      <td>...</td>\n",
       "      <td>F3P</td>\n",
       "      <td>4010920171359608011</td>\n",
       "      <td>t</td>\n",
       "      <td>NaN</td>\n",
       "      <td>2016</td>\n",
       "      <td>SA</td>\n",
       "      <td>NaN</td>\n",
       "      <td>4011120171366556953</td>\n",
       "      <td>http://docquery.fec.gov/cgi-bin/fecimg/?201701...</td>\n",
       "      <td>Contributions From Individuals/Persons Other T...</td>\n",
       "    </tr>\n",
       "    <tr>\n",
       "      <th>4</th>\n",
       "      <td>C00179408</td>\n",
       "      <td>MAINE DEMOCRATIC PARTY</td>\n",
       "      <td>2016</td>\n",
       "      <td>M9</td>\n",
       "      <td>201909059163143517</td>\n",
       "      <td>11AI</td>\n",
       "      <td>11AI-000039245</td>\n",
       "      <td>1350680</td>\n",
       "      <td>NaN</td>\n",
       "      <td>IND</td>\n",
       "      <td>...</td>\n",
       "      <td>F3X</td>\n",
       "      <td>4090520191672279180</td>\n",
       "      <td>t</td>\n",
       "      <td>NaN</td>\n",
       "      <td>2016</td>\n",
       "      <td>SA</td>\n",
       "      <td>NaN</td>\n",
       "      <td>4090620191672313017</td>\n",
       "      <td>http://docquery.fec.gov/cgi-bin/fecimg/?201909...</td>\n",
       "      <td>Contributions From Individuals/Persons Other T...</td>\n",
       "    </tr>\n",
       "  </tbody>\n",
       "</table>\n",
       "<p>5 rows × 79 columns</p>\n",
       "</div>"
      ],
      "text/plain": [
       "  committee_id          committee_name  report_year report_type  \\\n",
       "0    C00465492   FRIENDS OF JOE SESTAK         2013          Q2   \n",
       "1    C00575795     HILLARY FOR AMERICA         2016         M10   \n",
       "2    C00465492   FRIENDS OF JOE SESTAK         2013          Q2   \n",
       "3    C00575795     HILLARY FOR AMERICA         2016         12G   \n",
       "4    C00179408  MAINE DEMOCRATIC PARTY         2016          M9   \n",
       "\n",
       "         image_number line_number  transaction_id  file_number  \\\n",
       "0  201507210200225038        11AI             NaN      1020266   \n",
       "1  201701099041150117         17A       C11241249      1137625   \n",
       "2  201507210200225036        11AI             NaN      1020266   \n",
       "3  201701099041274498         17A       C12244496      1137788   \n",
       "4  201909059163143517        11AI  11AI-000039245      1350680   \n",
       "\n",
       "   committee_name.1 entity_type  ... filing_form              link_id  \\\n",
       "0               NaN         IND  ...          F3  1040720160018595573   \n",
       "1               NaN         IND  ...         F3P  4010920171359608009   \n",
       "2               NaN         IND  ...          F3  1040720160018595573   \n",
       "3               NaN         IND  ...         F3P  4010920171359608011   \n",
       "4               NaN         IND  ...         F3X  4090520191672279180   \n",
       "\n",
       "  is_individual memo_text two_year_transaction_period schedule_type  \\\n",
       "0             t       NaN                        2014            SA   \n",
       "1             t       NaN                        2016            SA   \n",
       "2             t       NaN                        2014            SA   \n",
       "3             t       NaN                        2016            SA   \n",
       "4             t       NaN                        2016            SA   \n",
       "\n",
       "  increased_limit               sub_id  \\\n",
       "0             NaN  1040720160018595836   \n",
       "1             NaN  4011120171366214585   \n",
       "2             NaN  1040720160018595829   \n",
       "3             NaN  4011120171366556953   \n",
       "4             NaN  4090620191672313017   \n",
       "\n",
       "                                             pdf_url  \\\n",
       "0  http://docquery.fec.gov/cgi-bin/fecimg/?201507...   \n",
       "1  http://docquery.fec.gov/cgi-bin/fecimg/?201701...   \n",
       "2  http://docquery.fec.gov/cgi-bin/fecimg/?201507...   \n",
       "3  http://docquery.fec.gov/cgi-bin/fecimg/?201701...   \n",
       "4  http://docquery.fec.gov/cgi-bin/fecimg/?201909...   \n",
       "\n",
       "                                   line_number_label  \n",
       "0  Contributions From Individuals/Persons Other T...  \n",
       "1  Contributions From Individuals/Persons Other T...  \n",
       "2  Contributions From Individuals/Persons Other T...  \n",
       "3  Contributions From Individuals/Persons Other T...  \n",
       "4  Contributions From Individuals/Persons Other T...  \n",
       "\n",
       "[5 rows x 79 columns]"
      ]
     },
     "execution_count": 20,
     "metadata": {},
     "output_type": "execute_result"
    }
   ],
   "source": [
    "import os\n",
    "import pandas as pd\n",
    "import numpy as np\n",
    "import matplotlib.pyplot as plt\n",
    "\n",
    "DIR = os.getcwd()\n",
    "print(DIR)\n",
    "\n",
    "df_2016 = pd.read_csv(DIR + \"/2015to2016contributions.csv\",\n",
    "                    parse_dates = [\"contribution_receipt_date\"]) \n",
    "\n",
    "df_2016.head()"
   ]
  },
  {
   "cell_type": "code",
   "execution_count": 21,
   "metadata": {},
   "outputs": [],
   "source": [
    "# df.columns\n",
    "df_2016 = df_2016[[ \"committee_name\", \"contribution_receipt_date\",\n",
    "                    \"contribution_receipt_amount\", \"contributor_employer\", \n",
    "                   \"contributor_occupation\", \"contributor_first_name\", \n",
    "                   \"contributor_middle_name\", \"contributor_last_name\"]]"
   ]
  },
  {
   "cell_type": "code",
   "execution_count": 22,
   "metadata": {},
   "outputs": [],
   "source": [
    "faux = [\"MISSOURI\", \"BRITISH\", \"DISTRICT\", \"CHICAGO\", \"INTERNATIONAL\", \"MO\", \"UNIVERSITY HOSPITAL\", \"FLORIDA\",\n",
    "       \"CAROLINA\"]\n",
    "\n",
    "df_2016 = df_2016[~df_2016.contributor_employer.str.contains('|'.join(faux))]\n",
    "\n",
    "df_2016 = df_2016[df_2016[\"contribution_receipt_amount\"] >= 0]  "
   ]
  },
  {
   "cell_type": "code",
   "execution_count": 23,
   "metadata": {
    "scrolled": true
   },
   "outputs": [],
   "source": [
    "df_2020 = pd.read_csv(DIR + \"/2019to2020contributions.csv\",\n",
    "                    parse_dates = [\"contribution_receipt_date\"]) "
   ]
  },
  {
   "cell_type": "code",
   "execution_count": 24,
   "metadata": {},
   "outputs": [],
   "source": [
    "# df.columns\n",
    "df_2020 = df_2020[[ \"committee_name\", \"contribution_receipt_date\",\n",
    "                    \"contribution_receipt_amount\", \"contributor_employer\", \n",
    "                   \"contributor_occupation\", \"contributor_first_name\", \n",
    "                   \"contributor_middle_name\", \"contributor_last_name\"]]"
   ]
  },
  {
   "cell_type": "code",
   "execution_count": 25,
   "metadata": {},
   "outputs": [],
   "source": [
    "faux = [\"MISSOURI\", \"BRITISH\", \"DISTRICT\", \"CHICAGO\", \"INTERNATIONAL\", \"MO\", \"UNIVERSITY HOSPITAL\", \"FLORIDA\",\n",
    "       \"CAROLINA\"]\n",
    "\n",
    "df_2020 = df_2020[~df_2020.contributor_employer.str.contains('|'.join(faux))]\n",
    "\n",
    "df_2020 = df_2020[df_2020[\"contribution_receipt_amount\"] >= 0]  "
   ]
  },
  {
   "cell_type": "code",
   "execution_count": 26,
   "metadata": {},
   "outputs": [
    {
     "data": {
      "text/plain": [
       "(47222, 8)"
      ]
     },
     "execution_count": 26,
     "metadata": {},
     "output_type": "execute_result"
    }
   ],
   "source": [
    "df_2020.shape"
   ]
  },
  {
   "cell_type": "code",
   "execution_count": 27,
   "metadata": {},
   "outputs": [
    {
     "name": "stdout",
     "output_type": "stream",
     "text": [
      "Total 2016 donations:  2150782.11\n",
      "Total 2020 donations:  2311350.6100000003\n"
     ]
    }
   ],
   "source": [
    "print(\"Total 2016 donations: \", df_2016[\"contribution_receipt_amount\"].sum())\n",
    "print(\"Total 2020 donations: \", df_2020[\"contribution_receipt_amount\"].sum())"
   ]
  },
  {
   "cell_type": "code",
   "execution_count": 28,
   "metadata": {},
   "outputs": [
    {
     "data": {
      "text/html": [
       "<div>\n",
       "<style scoped>\n",
       "    .dataframe tbody tr th:only-of-type {\n",
       "        vertical-align: middle;\n",
       "    }\n",
       "\n",
       "    .dataframe tbody tr th {\n",
       "        vertical-align: top;\n",
       "    }\n",
       "\n",
       "    .dataframe thead th {\n",
       "        text-align: right;\n",
       "    }\n",
       "</style>\n",
       "<table border=\"1\" class=\"dataframe\">\n",
       "  <thead>\n",
       "    <tr style=\"text-align: right;\">\n",
       "      <th></th>\n",
       "      <th>committee_name</th>\n",
       "      <th>contribution_receipt_date</th>\n",
       "      <th>contribution_receipt_amount</th>\n",
       "      <th>contributor_employer</th>\n",
       "      <th>contributor_occupation</th>\n",
       "      <th>contributor_first_name</th>\n",
       "      <th>contributor_middle_name</th>\n",
       "      <th>contributor_last_name</th>\n",
       "      <th>YEAR</th>\n",
       "    </tr>\n",
       "  </thead>\n",
       "  <tbody>\n",
       "    <tr>\n",
       "      <th>0</th>\n",
       "      <td>FRIENDS OF JOE SESTAK</td>\n",
       "      <td>2015-04-10</td>\n",
       "      <td>125.0</td>\n",
       "      <td>COLUMBIA UNIVERSITY</td>\n",
       "      <td>PROFESSOR</td>\n",
       "      <td>L</td>\n",
       "      <td>NaN</td>\n",
       "      <td>ERLENMEYER-KIMLING</td>\n",
       "      <td>2016</td>\n",
       "    </tr>\n",
       "    <tr>\n",
       "      <th>1</th>\n",
       "      <td>HILLARY FOR AMERICA</td>\n",
       "      <td>2016-09-26</td>\n",
       "      <td>25.0</td>\n",
       "      <td>COLUMBIA UNIVERSITY</td>\n",
       "      <td>PROFESSOR</td>\n",
       "      <td>NAN</td>\n",
       "      <td>NaN</td>\n",
       "      <td>COOPER</td>\n",
       "      <td>2016</td>\n",
       "    </tr>\n",
       "    <tr>\n",
       "      <th>2</th>\n",
       "      <td>FRIENDS OF JOE SESTAK</td>\n",
       "      <td>2015-06-10</td>\n",
       "      <td>150.0</td>\n",
       "      <td>COLUMBIA UNIVERSITY</td>\n",
       "      <td>PROFESSOR</td>\n",
       "      <td>L</td>\n",
       "      <td>NaN</td>\n",
       "      <td>ERLENMEYER-KIMLING</td>\n",
       "      <td>2016</td>\n",
       "    </tr>\n",
       "    <tr>\n",
       "      <th>3</th>\n",
       "      <td>HILLARY FOR AMERICA</td>\n",
       "      <td>2016-10-03</td>\n",
       "      <td>5.0</td>\n",
       "      <td>COLUMBIA UNIVERSITY</td>\n",
       "      <td>PROFESSOR</td>\n",
       "      <td>BRANKA</td>\n",
       "      <td>NaN</td>\n",
       "      <td>ARSIC</td>\n",
       "      <td>2016</td>\n",
       "    </tr>\n",
       "    <tr>\n",
       "      <th>4</th>\n",
       "      <td>MAINE DEMOCRATIC PARTY</td>\n",
       "      <td>2016-08-24</td>\n",
       "      <td>250.0</td>\n",
       "      <td>COLUMBIA UNIVERSITY</td>\n",
       "      <td>STUDENT</td>\n",
       "      <td>NERIA</td>\n",
       "      <td>R.</td>\n",
       "      <td>DOUGLASS</td>\n",
       "      <td>2016</td>\n",
       "    </tr>\n",
       "  </tbody>\n",
       "</table>\n",
       "</div>"
      ],
      "text/plain": [
       "           committee_name contribution_receipt_date  \\\n",
       "0   FRIENDS OF JOE SESTAK                2015-04-10   \n",
       "1     HILLARY FOR AMERICA                2016-09-26   \n",
       "2   FRIENDS OF JOE SESTAK                2015-06-10   \n",
       "3     HILLARY FOR AMERICA                2016-10-03   \n",
       "4  MAINE DEMOCRATIC PARTY                2016-08-24   \n",
       "\n",
       "   contribution_receipt_amount contributor_employer contributor_occupation  \\\n",
       "0                        125.0  COLUMBIA UNIVERSITY              PROFESSOR   \n",
       "1                         25.0  COLUMBIA UNIVERSITY              PROFESSOR   \n",
       "2                        150.0  COLUMBIA UNIVERSITY              PROFESSOR   \n",
       "3                          5.0  COLUMBIA UNIVERSITY              PROFESSOR   \n",
       "4                        250.0  COLUMBIA UNIVERSITY                STUDENT   \n",
       "\n",
       "  contributor_first_name contributor_middle_name contributor_last_name  YEAR  \n",
       "0                      L                     NaN    ERLENMEYER-KIMLING  2016  \n",
       "1                    NAN                     NaN                COOPER  2016  \n",
       "2                      L                     NaN    ERLENMEYER-KIMLING  2016  \n",
       "3                 BRANKA                     NaN                 ARSIC  2016  \n",
       "4                  NERIA                      R.              DOUGLASS  2016  "
      ]
     },
     "execution_count": 28,
     "metadata": {},
     "output_type": "execute_result"
    }
   ],
   "source": [
    "df_2016[\"YEAR\"] = \"2016\"\n",
    "df_2020[\"YEAR\"] = \"2020\"\n",
    "\n",
    "frames1 = [df_2016, df_2020]\n",
    "df_all = pd.concat(frames1)\n",
    "df_all.head()"
   ]
  },
  {
   "cell_type": "code",
   "execution_count": 29,
   "metadata": {},
   "outputs": [
    {
     "data": {
      "text/html": [
       "<div>\n",
       "<style scoped>\n",
       "    .dataframe tbody tr th:only-of-type {\n",
       "        vertical-align: middle;\n",
       "    }\n",
       "\n",
       "    .dataframe tbody tr th {\n",
       "        vertical-align: top;\n",
       "    }\n",
       "\n",
       "    .dataframe thead th {\n",
       "        text-align: right;\n",
       "    }\n",
       "</style>\n",
       "<table border=\"1\" class=\"dataframe\">\n",
       "  <thead>\n",
       "    <tr style=\"text-align: right;\">\n",
       "      <th></th>\n",
       "      <th>contribution_receipt_amount</th>\n",
       "    </tr>\n",
       "    <tr>\n",
       "      <th>YEAR</th>\n",
       "      <th></th>\n",
       "    </tr>\n",
       "  </thead>\n",
       "  <tbody>\n",
       "    <tr>\n",
       "      <th>2016</th>\n",
       "      <td>2150782.11</td>\n",
       "    </tr>\n",
       "    <tr>\n",
       "      <th>2020</th>\n",
       "      <td>2311350.61</td>\n",
       "    </tr>\n",
       "  </tbody>\n",
       "</table>\n",
       "</div>"
      ],
      "text/plain": [
       "      contribution_receipt_amount\n",
       "YEAR                             \n",
       "2016                   2150782.11\n",
       "2020                   2311350.61"
      ]
     },
     "execution_count": 29,
     "metadata": {},
     "output_type": "execute_result"
    }
   ],
   "source": [
    "df_all = df_all.groupby(by=[\"YEAR\"]).sum()\n",
    "df_all"
   ]
  },
  {
   "cell_type": "code",
   "execution_count": 30,
   "metadata": {},
   "outputs": [
    {
     "data": {
      "image/png": "[encoded data removed]",
      "text/plain": [
       "<Figure size 720x432 with 1 Axes>"
      ]
     },
     "metadata": {
      "needs_background": "light"
     },
     "output_type": "display_data"
    }
   ],
   "source": [
    "ax0 = df_all.plot(kind=\"bar\",\n",
    "                 figsize=(10,6))"
   ]
  },
  {
   "cell_type": "code",
   "execution_count": 31,
   "metadata": {},
   "outputs": [],
   "source": [
    "import datetime\n",
    "three_weeks = datetime.datetime(2016, 10, 18)\n",
    "\n",
    "df_b16 = df_2016[df_2016[\"contribution_receipt_date\"] < three_weeks]\n",
    "df_a16 = df_2016[df_2016[\"contribution_receipt_date\"] >= three_weeks]"
   ]
  },
  {
   "cell_type": "code",
   "execution_count": 32,
   "metadata": {},
   "outputs": [],
   "source": [
    "t16 = df_2016[\"contribution_receipt_amount\"].sum()\n",
    "b16 = df_b16[\"contribution_receipt_amount\"].sum()\n",
    "a16 = df_a16[\"contribution_receipt_amount\"].sum()\n",
    "\n",
    "b20 = df_2020[\"contribution_receipt_amount\"].sum()\n",
    "t20 = (b20*t16)/b16\n",
    "a20 = t20-b20"
   ]
  },
  {
   "cell_type": "code",
   "execution_count": 33,
   "metadata": {},
   "outputs": [],
   "source": [
    "before = (b16, b20)\n",
    "after = (a16, a20)\n",
    "labels = [\"2016\", \"2020\"]"
   ]
  },
  {
   "cell_type": "code",
   "execution_count": 39,
   "metadata": {},
   "outputs": [
    {
     "data": {
      "image/png": "[encoded data removed]",
      "text/plain": [
       "<Figure size 432x288 with 1 Axes>"
      ]
     },
     "metadata": {
      "needs_background": "light"
     },
     "output_type": "display_data"
    }
   ],
   "source": [
    "p1 = plt.bar(labels, before)\n",
    "p2 = plt.bar(labels, after,\n",
    "             bottom=before)\n",
    "# plt.yticks(np.arange(6), [\"$500k\", \"$1M\", \"$1.5M\", \"$2M\", \"$2.5M\", \"$3M\"])\n",
    "# plt.yticks(np.arange(3), ['Tom', 'Dick', 'Sue'])\n",
    "plt.plot(figsize=(30,30))\n",
    "plt.savefig('filename.svg', dpi=300)"
   ]
  },
  {
   "cell_type": "code",
   "execution_count": 37,
   "metadata": {},
   "outputs": [
    {
     "data": {
      "text/plain": [
       "(2006, 9)"
      ]
     },
     "execution_count": 37,
     "metadata": {},
     "output_type": "execute_result"
    }
   ],
   "source": [
    "df_occ2016 = df_2016.drop_duplicates(subset=[\"contributor_last_name\", \"contributor_middle_name\",\n",
    "                                              \"contributor_middle_name\"])\n",
    "df_occ2016.shape"
   ]
  },
  {
   "cell_type": "code",
   "execution_count": 38,
   "metadata": {},
   "outputs": [
    {
     "data": {
      "text/plain": [
       "(3847, 9)"
      ]
     },
     "execution_count": 38,
     "metadata": {},
     "output_type": "execute_result"
    }
   ],
   "source": [
    "df_occ2020 = df_2020.drop_duplicates(subset=[\"contributor_last_name\", \"contributor_middle_name\",\n",
    "                                              \"contributor_middle_name\"])\n",
    "df_occ2020.shape"
   ]
  }
 ],
 "metadata": {
  "kernelspec": {
   "display_name": "Python 3",
   "language": "python",
   "name": "python3"
  },
  "language_info": {
   "codemirror_mode": {
    "name": "ipython",
    "version": 3
   },
   "file_extension": ".py",
   "mimetype": "text/x-python",
   "name": "python",
   "nbconvert_exporter": "python",
   "pygments_lexer": "ipython3",
   "version": "3.8.0"
  }
 },
 "nbformat": 4,
 "nbformat_minor": 4
}
